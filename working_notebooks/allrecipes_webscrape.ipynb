{
 "cells": [
  {
   "cell_type": "code",
   "execution_count": 90,
   "metadata": {},
   "outputs": [],
   "source": [
    "import time"
   ]
  },
  {
   "cell_type": "code",
   "execution_count": 134,
   "metadata": {},
   "outputs": [],
   "source": [
    "import requests\n",
    "from bs4 import BeautifulSoup as soup\n",
    "from bs4 import NavigableString\n",
    "from urllib.request import urlopen as ureq"
   ]
  },
  {
   "cell_type": "markdown",
   "metadata": {},
   "source": [
    "# All Recipes"
   ]
  },
  {
   "cell_type": "code",
   "execution_count": 1,
   "metadata": {},
   "outputs": [],
   "source": [
    "ar = 'https://www.allrecipes.com/recipes/1899/world-cuisine/asian/chinese/appetizers/'"
   ]
  },
  {
   "cell_type": "code",
   "execution_count": null,
   "metadata": {},
   "outputs": [],
   "source": [
    "def recipe_page_links(alphabet_link):\n",
    "    #get all recipe links on a given alpabetized page\n",
    "\n",
    "    link_list = []\n",
    "    recipe_pages = requests.get(alphabet_link)\n",
    "    rs_soup = BS(recipe_pages.content, 'html.parser')\n",
    "    recipes_list = rs_soup.find_all(class_=\"gel-layout__item gel-1/2 gel-1/3@m gel-1/4@xl\")\n",
    "\n",
    "    for recipes in recipes_list:\n",
    "        recipe_link  = 'https://www.bbc.co.uk' + recipes.a['href']\n",
    "        link_list.append(recipe_link)\n",
    "\n",
    "    return(link_list)\n",
    "        #must move the indent out one for the final run!!"
   ]
  },
  {
   "cell_type": "code",
   "execution_count": 42,
   "metadata": {},
   "outputs": [
    {
     "data": {
      "text/plain": [
       "['100  (3.5 inch square) wonton wrappers',\n",
       " '1\\u2009¾ pounds ground pork',\n",
       " '1 tablespoon minced fresh ginger root',\n",
       " '4 cloves garlic, minced',\n",
       " '2 tablespoons thinly sliced green onion',\n",
       " '4 tablespoons soy sauce',\n",
       " '3 tablespoons sesame oil',\n",
       " '1  egg, beaten',\n",
       " '5 cups finely shredded Chinese cabbage']"
      ]
     },
     "execution_count": 42,
     "metadata": {},
     "output_type": "execute_result"
    }
   ],
   "source": [
    "req = requests.get('https://www.allrecipes.com/recipe/14759/pork-dumplings/', headers={'User-Agent': 'Mozilla/5.0'})\n",
    "req.content\n",
    "soup = soup(req.content, 'html.parser')\n",
    "x = soup.find_all('span', class_=\"ingredients-item-name\")\n",
    "[s.get_text(strip = True) for s in soup.find_all('span', class_=\"ingredients-item-name\")]\n"
   ]
  },
  {
   "cell_type": "code",
   "execution_count": 16,
   "metadata": {},
   "outputs": [
    {
     "data": {
      "text/plain": [
       "'100  (3.5 inch square) wonton wrappers'"
      ]
     },
     "execution_count": 16,
     "metadata": {},
     "output_type": "execute_result"
    }
   ],
   "source": [
    "x.get_text(strip = True)"
   ]
  },
  {
   "cell_type": "code",
   "execution_count": 28,
   "metadata": {},
   "outputs": [
    {
     "data": {
      "text/plain": [
       "['100  (3.5 inch square) wonton wrappers',\n",
       " '1\\u2009¾ pounds ground pork',\n",
       " '1 tablespoon minced fresh ginger root',\n",
       " '4 cloves garlic, minced',\n",
       " '2 tablespoons thinly sliced green onion',\n",
       " '4 tablespoons soy sauce',\n",
       " '3 tablespoons sesame oil',\n",
       " '1  egg, beaten',\n",
       " '5 cups finely shredded Chinese cabbage']"
      ]
     },
     "execution_count": 28,
     "metadata": {},
     "output_type": "execute_result"
    }
   ],
   "source": [
    "arlist = []\n",
    "for s in soup.find_all('span', class_=\"ingredients-item-name\"):\n",
    "    arlist.append(s.get_text(strip = True))\n",
    "arlist"
   ]
  },
  {
   "cell_type": "markdown",
   "metadata": {},
   "source": [
    "# Food.ndtv"
   ]
  },
  {
   "cell_type": "code",
   "execution_count": 135,
   "metadata": {},
   "outputs": [],
   "source": [
    "req = requests.get('https://food.ndtv.com/recipe-roast-turkey-with-cranberry-sauce-953079', headers={'User-Agent': 'Mozilla/5.0'})\n",
    "req.content\n",
    "soup = soup(req.content, 'html.parser')\n",
    "# x = soup.find('div', class_ =\"ingredients\")\n",
    "# [b.get_text(strip = True) for b in soup.find_all('span', class_=\"ingredients-item-name\")]\n"
   ]
  },
  {
   "cell_type": "code",
   "execution_count": 103,
   "metadata": {},
   "outputs": [
    {
     "data": {
      "text/plain": [
       "<div class=\"ingredients\"><h2>Ingredients of Roast Turkey with Cranberry Sauce</h2><ul><li>1  whole turkey</li><li>100 gms butter</li><li>100 gms onion, chopped</li><li>100 gms celery, chopped</li><li>10 gms crumbled sage and thyme </li><li> to taste salt and pepper</li><li>10 gms garlic minced</li><li>  balsamic vinegar</li><li>20 gms sugar</li><li>150 gms cranberry</li></ul></div>"
      ]
     },
     "execution_count": 103,
     "metadata": {},
     "output_type": "execute_result"
    }
   ],
   "source": [
    "x"
   ]
  },
  {
   "cell_type": "code",
   "execution_count": 124,
   "metadata": {},
   "outputs": [
    {
     "data": {
      "text/plain": [
       "'1  whole turkey'"
      ]
     },
     "execution_count": 124,
     "metadata": {},
     "output_type": "execute_result"
    }
   ],
   "source": [
    "x.find('li').get_text()"
   ]
  },
  {
   "cell_type": "code",
   "execution_count": 122,
   "metadata": {},
   "outputs": [
    {
     "data": {
      "text/plain": [
       "'Ingredients of Roast Turkey with Cranberry Sauce1  whole turkey100 gms butter100 gms onion, chopped100 gms celery, chopped10 gms crumbled sage and thyme  to taste salt and pepper10 gms garlic minced  balsamic vinegar20 gms sugar150 gms cranberry'"
      ]
     },
     "execution_count": 122,
     "metadata": {},
     "output_type": "execute_result"
    }
   ],
   "source": [
    "x.get_text()"
   ]
  },
  {
   "cell_type": "code",
   "execution_count": 136,
   "metadata": {},
   "outputs": [
    {
     "ename": "AttributeError",
     "evalue": "'NoneType' object has no attribute 'get_text'",
     "output_type": "error",
     "traceback": [
      "\u001b[1;31m---------------------------------------------------------------------------\u001b[0m",
      "\u001b[1;31mAttributeError\u001b[0m                            Traceback (most recent call last)",
      "\u001b[1;32m<ipython-input-136-adbd09b0a7e5>\u001b[0m in \u001b[0;36m<module>\u001b[1;34m\u001b[0m\n\u001b[0;32m      2\u001b[0m \u001b[1;32mfor\u001b[0m \u001b[0mb\u001b[0m \u001b[1;32min\u001b[0m \u001b[0msoup\u001b[0m\u001b[1;33m.\u001b[0m\u001b[0mfind\u001b[0m\u001b[1;33m(\u001b[0m\u001b[1;34m'div'\u001b[0m\u001b[1;33m,\u001b[0m \u001b[0mclass_\u001b[0m \u001b[1;33m=\u001b[0m\u001b[1;34m\"ingredients\"\u001b[0m\u001b[1;33m)\u001b[0m\u001b[1;33m:\u001b[0m\u001b[1;33m\u001b[0m\u001b[1;33m\u001b[0m\u001b[0m\n\u001b[0;32m      3\u001b[0m     \u001b[0mb\u001b[0m \u001b[1;33m=\u001b[0m \u001b[0mb\u001b[0m\u001b[1;33m.\u001b[0m\u001b[0mfind\u001b[0m\u001b[1;33m(\u001b[0m\u001b[1;34m'li'\u001b[0m\u001b[1;33m)\u001b[0m\u001b[1;33m\u001b[0m\u001b[1;33m\u001b[0m\u001b[0m\n\u001b[1;32m----> 4\u001b[1;33m     \u001b[0mflist\u001b[0m\u001b[1;33m.\u001b[0m\u001b[0mappend\u001b[0m\u001b[1;33m(\u001b[0m\u001b[0mb\u001b[0m\u001b[1;33m.\u001b[0m\u001b[0mget_text\u001b[0m\u001b[1;33m(\u001b[0m\u001b[1;33m)\u001b[0m\u001b[1;33m)\u001b[0m\u001b[1;33m\u001b[0m\u001b[1;33m\u001b[0m\u001b[0m\n\u001b[0m\u001b[0;32m      5\u001b[0m \u001b[0mflist\u001b[0m\u001b[1;33m\u001b[0m\u001b[1;33m\u001b[0m\u001b[0m\n",
      "\u001b[1;31mAttributeError\u001b[0m: 'NoneType' object has no attribute 'get_text'"
     ]
    }
   ],
   "source": [
    "flist = []\n",
    "for b in soup.find('div', class_ =\"ingredients\"):\n",
    "    b = b.find('li')\n",
    "    flist.append(b.get_text())\n",
    "flist"
   ]
  },
  {
   "cell_type": "code",
   "execution_count": 105,
   "metadata": {},
   "outputs": [
    {
     "data": {
      "text/plain": [
       "2"
      ]
     },
     "execution_count": 105,
     "metadata": {},
     "output_type": "execute_result"
    }
   ],
   "source": [
    "len(flist)"
   ]
  },
  {
   "cell_type": "code",
   "execution_count": null,
   "metadata": {},
   "outputs": [],
   "source": []
  }
 ],
 "metadata": {
  "kernelspec": {
   "display_name": "learn-env",
   "language": "python",
   "name": "learn-env"
  },
  "language_info": {
   "codemirror_mode": {
    "name": "ipython",
    "version": 3
   },
   "file_extension": ".py",
   "mimetype": "text/x-python",
   "name": "python",
   "nbconvert_exporter": "python",
   "pygments_lexer": "ipython3",
   "version": "3.6.9"
  }
 },
 "nbformat": 4,
 "nbformat_minor": 4
}
