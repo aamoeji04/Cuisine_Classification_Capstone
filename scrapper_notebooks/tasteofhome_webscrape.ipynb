{
 "cells": [
  {
   "cell_type": "code",
   "execution_count": 1,
   "metadata": {},
   "outputs": [],
   "source": [
    "import time"
   ]
  },
  {
   "cell_type": "code",
   "execution_count": 2,
   "metadata": {},
   "outputs": [],
   "source": [
    "import requests\n",
    "from bs4 import BeautifulSoup as BS\n",
    "from bs4 import NavigableString\n",
    "from urllib.request import urlopen as ureq"
   ]
  },
  {
   "cell_type": "markdown",
   "metadata": {},
   "source": [
    "# Taste of Home"
   ]
  },
  {
   "cell_type": "code",
   "execution_count": 5,
   "metadata": {},
   "outputs": [],
   "source": [
    "def recipe_ingredients(recipe_link):\n",
    "    #get the actual recipe ingredients for a given recipe\n",
    "\n",
    "    recipe_page = requests.get(recipe_link, headers={'User-Agent': 'Mozilla/5.0'})\n",
    "    r_soup = BS(recipe_page.content, 'html.parser')\n",
    "    recipe_list = r_soup.find('div', class_='recipe-ingredients')\n",
    "    ingredients = ''\n",
    "\n",
    "    for recipe in recipe_list.find_all('li'):\n",
    "        ingredient = recipe.text\n",
    "        ingredients = ingredients + ingredient + ' '\n",
    "\n",
    "    return ingredients\n"
   ]
  },
  {
   "cell_type": "code",
   "execution_count": 6,
   "metadata": {
    "scrolled": true
   },
   "outputs": [
    {
     "data": {
      "text/plain": [
       "'1 teaspoon active dry yeast 2/3 cup warm water (110° to 115°) 2 tablespoons olive oil 1 teaspoon salt 1-3/4 to 2-1/4 cups all-purpose flour 1 can (8 ounces) tomato sauce 2 cups shredded mozzarella cheese 1/2 cup grated Romano cheese 1/4 cup chopped fresh basil 2 teaspoons dried oregano 1 teaspoon crushed red pepper flakes '"
      ]
     },
     "execution_count": 6,
     "metadata": {},
     "output_type": "execute_result"
    }
   ],
   "source": [
    "recipe_ingredients('https://www.tasteofhome.com/recipes/new-york-style-pizza/')"
   ]
  },
  {
   "cell_type": "code",
   "execution_count": 7,
   "metadata": {},
   "outputs": [],
   "source": [
    "def lst_recipe_ingredients(recipe_link):\n",
    "    #get the actual recipe ingredients for a given recipe\n",
    "\n",
    "    recipe_page = requests.get(recipe_link, headers={'User-Agent': 'Mozilla/5.0'})\n",
    "    r_soup = BS(recipe_page.content, 'html.parser')\n",
    "    recipe_list = r_soup.find('div', class_='recipe-ingredients')\n",
    "    ingredients = ''\n",
    "    return [recipe.text for recipe in recipe_list.find_all('li')]"
   ]
  },
  {
   "cell_type": "code",
   "execution_count": 10,
   "metadata": {},
   "outputs": [
    {
     "data": {
      "text/plain": [
       "['1 teaspoon active dry yeast',\n",
       " '2/3 cup warm water (110° to 115°)',\n",
       " '2 tablespoons olive oil',\n",
       " '1 teaspoon salt',\n",
       " '1-3/4 to 2-1/4 cups all-purpose flour',\n",
       " '1 can (8 ounces) tomato sauce',\n",
       " '2 cups shredded mozzarella cheese',\n",
       " '1/2 cup grated Romano cheese',\n",
       " '1/4 cup chopped fresh basil',\n",
       " '2 teaspoons dried oregano',\n",
       " '1 teaspoon crushed red pepper flakes']"
      ]
     },
     "execution_count": 10,
     "metadata": {},
     "output_type": "execute_result"
    }
   ],
   "source": [
    "lst_recipe_ingredients('https://www.tasteofhome.com/recipes/new-york-style-pizza/')"
   ]
  },
  {
   "cell_type": "code",
   "execution_count": 36,
   "metadata": {},
   "outputs": [
    {
     "data": {
      "text/plain": [
       "['1 teaspoon active dry yeast',\n",
       " '2/3 cup warm water (110° to 115°)',\n",
       " '2 tablespoons olive oil',\n",
       " '1 teaspoon salt',\n",
       " '1-3/4 to 2-1/4 cups all-purpose flour',\n",
       " '1 can (8 ounces) tomato sauce',\n",
       " '2 cups shredded mozzarella cheese',\n",
       " '1/2 cup grated Romano cheese',\n",
       " '1/4 cup chopped fresh basil',\n",
       " '2 teaspoons dried oregano',\n",
       " '1 teaspoon crushed red pepper flakes']"
      ]
     },
     "execution_count": 36,
     "metadata": {},
     "output_type": "execute_result"
    }
   ],
   "source": [
    "req = requests.get('https://www.tasteofhome.com/recipes/new-york-style-pizza/', headers={'User-Agent': 'Mozilla/5.0'})\n",
    "req.content\n",
    "soup = soup(req.content, 'html.parser')\n",
    "x = soup.find('div', class_='recipe-ingredients')\n",
    "[a.text for a in x.find_all('li')]"
   ]
  },
  {
   "cell_type": "code",
   "execution_count": 38,
   "metadata": {},
   "outputs": [
    {
     "data": {
      "text/plain": [
       "['1 teaspoon active dry yeast',\n",
       " '2/3 cup warm water (110° to 115°)',\n",
       " '2 tablespoons olive oil',\n",
       " '1 teaspoon salt',\n",
       " '1-3/4 to 2-1/4 cups all-purpose flour',\n",
       " '1 can (8 ounces) tomato sauce',\n",
       " '2 cups shredded mozzarella cheese',\n",
       " '1/2 cup grated Romano cheese',\n",
       " '1/4 cup chopped fresh basil',\n",
       " '2 teaspoons dried oregano',\n",
       " '1 teaspoon crushed red pepper flakes']"
      ]
     },
     "execution_count": 38,
     "metadata": {},
     "output_type": "execute_result"
    }
   ],
   "source": [
    "listt = []\n",
    "for a in x.find_all('li'):\n",
    "    listt.append(a.text)\n",
    "listt"
   ]
  },
  {
   "cell_type": "code",
   "execution_count": null,
   "metadata": {},
   "outputs": [],
   "source": [
    "def recipe_page_links(alphabet_link):\n",
    "    #get all recipe links on a given alpabetized page\n",
    "\n",
    "    link_list = []\n",
    "    recipe_pages = requests.get(alphabet_link)\n",
    "    rs_soup = BS(recipe_pages.content, 'html.parser')\n",
    "    recipes_list = rs_soup.find_all(class_=\"gel-layout__item gel-1/2 gel-1/3@m gel-1/4@xl\")\n",
    "\n",
    "    for item in list:\n",
    "        recipe_link  = 'https://www.bbc.co.uk' + item.a['href']\n",
    "        link_list.append(recipe_link)\n",
    "\n",
    "    return(link_list)\n",
    "        #must move the indent out one for the final run!!"
   ]
  }
 ],
 "metadata": {
  "kernelspec": {
   "display_name": "learn-env",
   "language": "python",
   "name": "learn-env"
  },
  "language_info": {
   "codemirror_mode": {
    "name": "ipython",
    "version": 3
   },
   "file_extension": ".py",
   "mimetype": "text/x-python",
   "name": "python",
   "nbconvert_exporter": "python",
   "pygments_lexer": "ipython3",
   "version": "3.6.9"
  }
 },
 "nbformat": 4,
 "nbformat_minor": 4
}
