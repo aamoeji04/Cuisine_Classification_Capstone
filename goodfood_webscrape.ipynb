{
 "cells": [
  {
   "cell_type": "code",
   "execution_count": 536,
   "metadata": {
    "ExecuteTime": {
     "end_time": "2021-02-09T21:15:49.217031Z",
     "start_time": "2021-02-09T21:15:49.201836Z"
    }
   },
   "outputs": [],
   "source": [
    "import time"
   ]
  },
  {
   "cell_type": "code",
   "execution_count": 542,
   "metadata": {
    "ExecuteTime": {
     "end_time": "2021-02-09T21:20:50.895241Z",
     "start_time": "2021-02-09T21:20:50.881014Z"
    }
   },
   "outputs": [],
   "source": [
    "import requests\n",
    "from bs4 import BeautifulSoup as BS\n",
    "from bs4 import NavigableString\n",
    "from urllib.request import urlopen as ureq"
   ]
  },
  {
   "cell_type": "markdown",
   "metadata": {},
   "source": [
    "# Good Food"
   ]
  },
  {
   "cell_type": "markdown",
   "metadata": {},
   "source": [
    "## Cuisine Links"
   ]
  },
  {
   "cell_type": "code",
   "execution_count": 543,
   "metadata": {
    "ExecuteTime": {
     "end_time": "2021-02-09T21:20:52.908906Z",
     "start_time": "2021-02-09T21:20:52.892900Z"
    }
   },
   "outputs": [],
   "source": [
    "def lst_cuisine_links_types():\n",
    "    cuisine_page = requests.get(\"https://www.bbcgoodfood.com/recipes/category/all-cuisines\")\n",
    "    c_soup = BS(cuisine_page.content, 'html.parser')\n",
    "    cuisine_list = c_soup.find_all('a', class_ =\"standard-card-new__article-title qa-card-link\")\n",
    "\n",
    "    c_link_list = []\n",
    "    for item in cuisine_list:\n",
    "        cuisine = item['href'].replace('https://www.bbcgoodfood.com/recipes/collection/','')\n",
    "        c_link  = item['href'] \n",
    "        c_link_list.append([c_link, cuisine])\n",
    "#         print(c_link)\n",
    "\n",
    "    return c_link_list"
   ]
  },
  {
   "cell_type": "code",
   "execution_count": 544,
   "metadata": {
    "ExecuteTime": {
     "end_time": "2021-02-09T21:20:58.638213Z",
     "start_time": "2021-02-09T21:20:54.490097Z"
    }
   },
   "outputs": [
    {
     "data": {
      "text/plain": [
       "[['https://www.bbcgoodfood.com/recipes/collection/american-recipes',\n",
       "  'american-recipes'],\n",
       " ['https://www.bbcgoodfood.com/recipes/collection/british-recipes',\n",
       "  'british-recipes'],\n",
       " ['https://www.bbcgoodfood.com/recipes/collection/caribbean-recipes',\n",
       "  'caribbean-recipes'],\n",
       " ['https://www.bbcgoodfood.com/recipes/collection/chinese-recipes',\n",
       "  'chinese-recipes'],\n",
       " ['https://www.bbcgoodfood.com/recipes/collection/french-recipes',\n",
       "  'french-recipes'],\n",
       " ['https://www.bbcgoodfood.com/recipes/collection/greek-recipes',\n",
       "  'greek-recipes'],\n",
       " ['https://www.bbcgoodfood.com/recipes/collection/indian-recipes',\n",
       "  'indian-recipes'],\n",
       " ['https://www.bbcgoodfood.com/recipes/collection/italian-recipes',\n",
       "  'italian-recipes'],\n",
       " ['https://www.bbcgoodfood.com/recipes/collection/japanese-recipes',\n",
       "  'japanese-recipes'],\n",
       " ['https://www.bbcgoodfood.com/recipes/collection/mediterranean-recipes',\n",
       "  'mediterranean-recipes'],\n",
       " ['https://www.bbcgoodfood.com/recipes/collection/mexican-recipes',\n",
       "  'mexican-recipes'],\n",
       " ['https://www.bbcgoodfood.com/recipes/collection/moroccan-recipes',\n",
       "  'moroccan-recipes'],\n",
       " ['https://www.bbcgoodfood.com/recipes/collection/spanish-recipes',\n",
       "  'spanish-recipes'],\n",
       " ['https://www.bbcgoodfood.com/recipes/collection/thai-recipes',\n",
       "  'thai-recipes'],\n",
       " ['https://www.bbcgoodfood.com/recipes/collection/turkish-recipes',\n",
       "  'turkish-recipes'],\n",
       " ['https://www.bbcgoodfood.com/recipes/collection/vietnamese-recipes',\n",
       "  'vietnamese-recipes']]"
      ]
     },
     "execution_count": 544,
     "metadata": {},
     "output_type": "execute_result"
    }
   ],
   "source": [
    "lst_cuisine_links_types()"
   ]
  },
  {
   "cell_type": "markdown",
   "metadata": {},
   "source": [
    "## Recipe Links"
   ]
  },
  {
   "cell_type": "code",
   "execution_count": 545,
   "metadata": {
    "ExecuteTime": {
     "end_time": "2021-02-09T21:21:01.986301Z",
     "start_time": "2021-02-09T21:21:01.976787Z"
    }
   },
   "outputs": [],
   "source": [
    "def lst_recipe_page_links(recipe_links):\n",
    "    #get all recipe links on a given alpabetized page\n",
    "\n",
    "    link_list = []\n",
    "    page = requests.get(recipe_links)\n",
    "    soup = BS(page.content, 'html.parser')\n",
    "    recipe_list = soup.find_all('a', class_ =\"standard-card-new__article-title qa-card-link\")\n",
    "    \n",
    "    for recipe in recipe_list:\n",
    "        recipe_link  = recipe['href']\n",
    "        link_list.append(recipe_link)\n",
    "#         print(recipe_link)\n",
    "\n",
    "    return(link_list)\n",
    "        #must move the indent out one for the final run!!\n"
   ]
  },
  {
   "cell_type": "code",
   "execution_count": 546,
   "metadata": {
    "ExecuteTime": {
     "end_time": "2021-02-09T21:21:02.612939Z",
     "start_time": "2021-02-09T21:21:02.361504Z"
    }
   },
   "outputs": [
    {
     "data": {
      "text/plain": [
       "['https://www.bbcgoodfood.com/recipes/buffalo-chicken',\n",
       " 'https://www.bbcgoodfood.com/recipes/texas-bbq-medley',\n",
       " 'https://www.bbcgoodfood.com/recipes/pecan-pie-maple-cream',\n",
       " 'https://www.bbcgoodfood.com/recipes/bbq-chicken-platter',\n",
       " 'https://www.bbcgoodfood.com/recipes/truffled-mac-n-cheese',\n",
       " 'https://www.bbcgoodfood.com/recipes/smores-dip',\n",
       " 'https://www.bbcgoodfood.com/recipes/hot-gumbo-dip',\n",
       " 'https://www.bbcgoodfood.com/recipes/fully-loaded-cajun-chicken-burgers',\n",
       " 'https://www.bbcgoodfood.com/recipes/tomato-avocado-corn-salad-migas-buttermilk-dressing',\n",
       " 'https://www.bbcgoodfood.com/recipes/easy-pickled-onion-rings',\n",
       " 'https://www.bbcgoodfood.com/recipes/sticky-bourbon-bbq-wings-blue-cheese-dip',\n",
       " 'https://www.bbcgoodfood.com/recipes/southern-fried-prawns',\n",
       " 'https://www.bbcgoodfood.com/recipes/spicy-pies-sweet-potato-mash',\n",
       " 'https://www.bbcgoodfood.com/recipes/cheesesteak-hotdogs',\n",
       " 'https://www.bbcgoodfood.com/recipes/creamed-corn',\n",
       " 'https://www.bbcgoodfood.com/recipes/american-pancakes',\n",
       " 'https://www.bbcgoodfood.com/recipes/baby-back-ribs-carolina-baste',\n",
       " 'https://www.bbcgoodfood.com/recipes/choc-chip-pecan-pie',\n",
       " 'https://www.bbcgoodfood.com/recipes/american-burnt-onion-dip',\n",
       " 'https://www.bbcgoodfood.com/recipes/smoky-braised-brisket',\n",
       " 'https://www.bbcgoodfood.com/recipes/stickiest-ever-bbq-ribs-chive-dip',\n",
       " 'https://www.bbcgoodfood.com/recipes/diner-sloppy-joes',\n",
       " 'https://www.bbcgoodfood.com/recipes/safe-eat-uncooked-cookie-dough',\n",
       " 'https://www.bbcgoodfood.com/recipes/all-american-t-bone']"
      ]
     },
     "execution_count": 546,
     "metadata": {},
     "output_type": "execute_result"
    }
   ],
   "source": [
    "lst_recipe_page_links('https://www.bbcgoodfood.com/recipes/collection/american-recipes')"
   ]
  },
  {
   "cell_type": "markdown",
   "metadata": {},
   "source": [
    "## Ingredients"
   ]
  },
  {
   "cell_type": "code",
   "execution_count": 557,
   "metadata": {
    "ExecuteTime": {
     "end_time": "2021-02-09T21:22:50.783237Z",
     "start_time": "2021-02-09T21:22:50.761570Z"
    }
   },
   "outputs": [],
   "source": [
    "def lst_recipe_ingredients(recipe_link):\n",
    "    #get the actual recipe ingredients for a given recipe\n",
    "\n",
    "    recipe_page = requests.get(recipe_link, headers={'User-Agent': 'Mozilla/5.0'})\n",
    "    r_soup = BS(recipe_page.content, 'html.parser')\n",
    "    recipe_list = r_soup.find_all('section', class_ =\"recipe__ingredients col-12 mt-md col-lg-6\")\n",
    "    lst1 = [i.find_all('ul', class_ = 'list') for i in recipe_list]\n",
    "    lst2 = [i.find_all('li', class_ =\"pb-xxs pt-xxs list-item list-item--separator\") for i in lst1[0]]\n",
    "    lst3 = []\n",
    "    for i in lst2:\n",
    "        for b in i:\n",
    "            lst3.append(b)\n",
    "    ingred_lst = [i.get_text() for i in lst3]\n",
    "    return ingred_lst"
   ]
  },
  {
   "cell_type": "code",
   "execution_count": 558,
   "metadata": {
    "ExecuteTime": {
     "end_time": "2021-02-09T21:22:51.878579Z",
     "start_time": "2021-02-09T21:22:51.330213Z"
    }
   },
   "outputs": [
    {
     "data": {
      "text/plain": [
       "['1 ½kg chicken thighs and drumsticks',\n",
       " '180g sea salt flakes',\n",
       " '90g soft dark brown sugar',\n",
       " '2 tbsp chilli flakes',\n",
       " '2 tbsp sweet smoked paprika',\n",
       " '1 tbsp ground cumin',\n",
       " '1 tbsp sea salt flakes',\n",
       " '1 tbsp dark brown sugar',\n",
       " '75g butter',\n",
       " '125ml hot chilli sauce',\n",
       " '1 tbsp maple syrup']"
      ]
     },
     "execution_count": 558,
     "metadata": {},
     "output_type": "execute_result"
    }
   ],
   "source": [
    "lst_recipe_ingredients('https://www.bbcgoodfood.com/recipes/buffalo-chicken')"
   ]
  },
  {
   "cell_type": "markdown",
   "metadata": {},
   "source": [
    "## Recipe Names"
   ]
  },
  {
   "cell_type": "code",
   "execution_count": 549,
   "metadata": {
    "ExecuteTime": {
     "end_time": "2021-02-09T21:21:08.203244Z",
     "start_time": "2021-02-09T21:21:08.195435Z"
    }
   },
   "outputs": [],
   "source": [
    "def recipe_name(recipe_link):\n",
    "    recipe_page = requests.get(recipe_link, headers={'User-Agent': 'Mozilla/5.0'})\n",
    "    n_soup = BS(recipe_page.content, 'html.parser')\n",
    "    n_parse = n_soup.find_all('div', class_ =\"header__body\")\n",
    "    name_list = []\n",
    "    for n in n_parse:\n",
    "        n = n.find_all('h1')\n",
    "        for x in n:\n",
    "            name_list.append(x.get_text())\n",
    "    return name_list"
   ]
  },
  {
   "cell_type": "code",
   "execution_count": 550,
   "metadata": {
    "ExecuteTime": {
     "end_time": "2021-02-09T21:21:10.079837Z",
     "start_time": "2021-02-09T21:21:09.895856Z"
    }
   },
   "outputs": [
    {
     "data": {
      "text/plain": [
       "['Texas BBQ medley']"
      ]
     },
     "execution_count": 550,
     "metadata": {},
     "output_type": "execute_result"
    }
   ],
   "source": [
    "recipe_name('https://www.bbcgoodfood.com/recipes/texas-bbq-medley')"
   ]
  },
  {
   "cell_type": "code",
   "execution_count": 551,
   "metadata": {
    "ExecuteTime": {
     "end_time": "2021-02-09T21:21:11.846855Z",
     "start_time": "2021-02-09T21:21:11.825668Z"
    }
   },
   "outputs": [],
   "source": [
    "def lst_recipe_name(recipe_link):\n",
    "    recipe_page = requests.get(recipe_link, headers={'User-Agent': 'Mozilla/5.0'})\n",
    "    n_soup = BS(recipe_page.content, 'html.parser')\n",
    "    name_list = n_soup.find_all('a', class_ =\"standard-card-new__article-title qa-card-link\")\n",
    "    \n",
    "    r_name_list = []\n",
    "    for name in name_list:\n",
    "        recipe_name = name.get_text()\n",
    "        r_name_list.append(recipe_name)\n",
    "    return r_name_list"
   ]
  },
  {
   "cell_type": "code",
   "execution_count": 552,
   "metadata": {
    "ExecuteTime": {
     "end_time": "2021-02-09T21:21:13.009892Z",
     "start_time": "2021-02-09T21:21:12.535193Z"
    }
   },
   "outputs": [
    {
     "data": {
      "text/plain": [
       "['Buffalo chicken',\n",
       " 'Texas BBQ medley',\n",
       " 'Pecan pie with maple cream',\n",
       " 'BBQ chicken platter',\n",
       " 'Truffled mac ‘n’ cheese',\n",
       " 'S’mores dip',\n",
       " 'Hot gumbo dip',\n",
       " 'Fully loaded Cajun chicken burgers',\n",
       " 'Tomato, avocado & corn salad with migas & buttermilk dressing',\n",
       " 'Easy pickled onion rings',\n",
       " 'Sticky bourbon BBQ wings with blue cheese dip',\n",
       " 'Southern-fried prawns',\n",
       " 'Spicy pies with sweet potato mash',\n",
       " 'Cheesesteak hot dogs',\n",
       " 'Creamed corn',\n",
       " 'American pancakes',\n",
       " 'Baby back ribs with Carolina baste',\n",
       " 'Choc chip pecan pie',\n",
       " 'American burnt onion dip',\n",
       " 'Smoky braised brisket',\n",
       " 'Stickiest ever BBQ ribs with chive dip',\n",
       " 'Sloppy joes',\n",
       " 'Edible cookie dough',\n",
       " 'All-American T-bone']"
      ]
     },
     "execution_count": 552,
     "metadata": {},
     "output_type": "execute_result"
    }
   ],
   "source": [
    "lst_recipe_name('https://www.bbcgoodfood.com/recipes/collection/american-recipes')"
   ]
  },
  {
   "cell_type": "markdown",
   "metadata": {},
   "source": [
    "# Final Scrapper"
   ]
  },
  {
   "cell_type": "code",
   "execution_count": 765,
   "metadata": {
    "ExecuteTime": {
     "end_time": "2021-02-10T08:41:58.270606Z",
     "start_time": "2021-02-10T08:41:58.238612Z"
    }
   },
   "outputs": [],
   "source": [
    "def goodfood_scrape_wrapper():\n",
    "    #wrapper function that calls the above functions and iterates through them\n",
    "    #due to the slow speed of the scrape it is recommended to run cuisine pages one at a time\n",
    "    cuisine_links = ['https://www.bbcgoodfood.com/recipes/collection/vietnamese-recipes/2', 'vietnamese-recipes']\n",
    "\n",
    "    '''cuisine_links = \n",
    " [['https://www.bbcgoodfood.com/recipes/collection/american-recipes','american-recipes'], \n",
    " ['https://www.bbcgoodfood.com/recipes/collection/british-recipes', 'british-recipes'],\n",
    " ['https://www.bbcgoodfood.com/recipes/collection/caribbean-recipes', 'caribbean-recipes'],\n",
    " ['https://www.bbcgoodfood.com/recipes/collection/chinese-recipes', 'chinese-recipes'],\n",
    " ['https://www.bbcgoodfood.com/recipes/collection/french-recipes', 'french-recipes'],\n",
    " ['https://www.bbcgoodfood.com/recipes/collection/greek-recipes', 'greek-recipes'],\n",
    " ['https://www.bbcgoodfood.com/recipes/collection/indian-recipes', 'indian-recipes'],\n",
    " ['https://www.bbcgoodfood.com/recipes/collection/italian-recipes', 'italian-recipes'],\n",
    " ['https://www.bbcgoodfood.com/recipes/collection/japanese-recipes', 'japanese-recipes'],\n",
    " ['https://www.bbcgoodfood.com/recipes/collection/mediterranean-recipes', 'mediterranean-recipes'],\n",
    " ['https://www.bbcgoodfood.com/recipes/collection/mexican-recipes', 'mexican-recipes'],\n",
    " ['https://www.bbcgoodfood.com/recipes/collection/moroccan-recipes', 'moroccan-recipes'],\n",
    " ['https://www.bbcgoodfood.com/recipes/collection/spanish-recipes', 'spanish-recipes'], \n",
    " ['https://www.bbcgoodfood.com/recipes/collection/thai-recipes', 'thai-recipes'],\n",
    " ['https://www.bbcgoodfood.com/recipes/collection/turkish-recipes', 'turkish-recipes'],\n",
    " ['https://www.bbcgoodfood.com/recipes/collection/vietnamese-recipes', 'vietnamese-recipes']]'''\n",
    "\n",
    "    names_list = []\n",
    "    ingredients_list = []\n",
    "    cuisines_list = []\n",
    "\n",
    "\n",
    "    for cuisine_link in cuisine_links:\n",
    "        recipe_links = lst_recipe_page_links(cuisine_links[0])\n",
    "        cuisine_type = cuisine_links[1]\n",
    "        \n",
    "        for recipe_link in recipe_links:\n",
    "            ingredients = lst_recipe_ingredients(recipe_link)\n",
    "            r_name = recipe_name(recipe_link)\n",
    "            names_list.append(r_name)\n",
    "            ingredients_list.append(ingredients)\n",
    "            cuisines_list.append(cuisine_type)\n",
    "\n",
    "    return names_list, ingredients_list, cuisines_list"
   ]
  },
  {
   "cell_type": "code",
   "execution_count": 766,
   "metadata": {
    "ExecuteTime": {
     "end_time": "2021-02-10T08:42:07.594232Z",
     "start_time": "2021-02-10T08:41:59.314445Z"
    }
   },
   "outputs": [
    {
     "data": {
      "text/html": [
       "<div>\n",
       "<style scoped>\n",
       "    .dataframe tbody tr th:only-of-type {\n",
       "        vertical-align: middle;\n",
       "    }\n",
       "\n",
       "    .dataframe tbody tr th {\n",
       "        vertical-align: top;\n",
       "    }\n",
       "\n",
       "    .dataframe thead th {\n",
       "        text-align: right;\n",
       "    }\n",
       "</style>\n",
       "<table border=\"1\" class=\"dataframe\">\n",
       "  <thead>\n",
       "    <tr style=\"text-align: right;\">\n",
       "      <th></th>\n",
       "      <th>name</th>\n",
       "      <th>ingredients</th>\n",
       "      <th>cuisine</th>\n",
       "    </tr>\n",
       "  </thead>\n",
       "  <tbody>\n",
       "    <tr>\n",
       "      <th>0</th>\n",
       "      <td>Crunchy Asian cabbage &amp; prawn salad</td>\n",
       "      <td>250g/9oz Chinese cabbage 175g/60z white cabbag...</td>\n",
       "      <td>vietnamese-recipes</td>\n",
       "    </tr>\n",
       "    <tr>\n",
       "      <th>1</th>\n",
       "      <td>Spiced chicken meatballs with noodles, basil &amp;...</td>\n",
       "      <td>1 large onion , roughly chopped thumb-size pie...</td>\n",
       "      <td>vietnamese-recipes</td>\n",
       "    </tr>\n",
       "    <tr>\n",
       "      <th>2</th>\n",
       "      <td>Sea bass with sizzled ginger, chilli &amp; spring ...</td>\n",
       "      <td>6 x sea bass  fillets, about 140g/5oz each, sk...</td>\n",
       "      <td>vietnamese-recipes</td>\n",
       "    </tr>\n",
       "    <tr>\n",
       "      <th>3</th>\n",
       "      <td>Salmon noodle wraps</td>\n",
       "      <td>100g rice noodle 2-3   spring onion , sliced  ...</td>\n",
       "      <td>vietnamese-recipes</td>\n",
       "    </tr>\n",
       "    <tr>\n",
       "      <th>4</th>\n",
       "      <td>Minty Asian chicken salad</td>\n",
       "      <td>250g pack thin  rice noodle 2 cooked skinless ...</td>\n",
       "      <td>vietnamese-recipes</td>\n",
       "    </tr>\n",
       "    <tr>\n",
       "      <th>5</th>\n",
       "      <td>Asian pork with rice noodle salad</td>\n",
       "      <td>1 tsp lemongrass  paste  (we used Bart's) 1 ts...</td>\n",
       "      <td>vietnamese-recipes</td>\n",
       "    </tr>\n",
       "    <tr>\n",
       "      <th>6</th>\n",
       "      <td>Crunchy Asian cabbage &amp; prawn salad</td>\n",
       "      <td>250g/9oz Chinese cabbage 175g/60z white cabbag...</td>\n",
       "      <td>vietnamese-recipes</td>\n",
       "    </tr>\n",
       "    <tr>\n",
       "      <th>7</th>\n",
       "      <td>Spiced chicken meatballs with noodles, basil &amp;...</td>\n",
       "      <td>1 large onion , roughly chopped thumb-size pie...</td>\n",
       "      <td>vietnamese-recipes</td>\n",
       "    </tr>\n",
       "    <tr>\n",
       "      <th>8</th>\n",
       "      <td>Sea bass with sizzled ginger, chilli &amp; spring ...</td>\n",
       "      <td>6 x sea bass  fillets, about 140g/5oz each, sk...</td>\n",
       "      <td>vietnamese-recipes</td>\n",
       "    </tr>\n",
       "    <tr>\n",
       "      <th>9</th>\n",
       "      <td>Salmon noodle wraps</td>\n",
       "      <td>100g rice noodle 2-3   spring onion , sliced  ...</td>\n",
       "      <td>vietnamese-recipes</td>\n",
       "    </tr>\n",
       "    <tr>\n",
       "      <th>10</th>\n",
       "      <td>Minty Asian chicken salad</td>\n",
       "      <td>250g pack thin  rice noodle 2 cooked skinless ...</td>\n",
       "      <td>vietnamese-recipes</td>\n",
       "    </tr>\n",
       "    <tr>\n",
       "      <th>11</th>\n",
       "      <td>Asian pork with rice noodle salad</td>\n",
       "      <td>1 tsp lemongrass  paste  (we used Bart's) 1 ts...</td>\n",
       "      <td>vietnamese-recipes</td>\n",
       "    </tr>\n",
       "  </tbody>\n",
       "</table>\n",
       "</div>"
      ],
      "text/plain": [
       "                                                 name  \\\n",
       "0                 Crunchy Asian cabbage & prawn salad   \n",
       "1   Spiced chicken meatballs with noodles, basil &...   \n",
       "2   Sea bass with sizzled ginger, chilli & spring ...   \n",
       "3                                 Salmon noodle wraps   \n",
       "4                           Minty Asian chicken salad   \n",
       "5                   Asian pork with rice noodle salad   \n",
       "6                 Crunchy Asian cabbage & prawn salad   \n",
       "7   Spiced chicken meatballs with noodles, basil &...   \n",
       "8   Sea bass with sizzled ginger, chilli & spring ...   \n",
       "9                                 Salmon noodle wraps   \n",
       "10                          Minty Asian chicken salad   \n",
       "11                  Asian pork with rice noodle salad   \n",
       "\n",
       "                                          ingredients             cuisine  \n",
       "0   250g/9oz Chinese cabbage 175g/60z white cabbag...  vietnamese-recipes  \n",
       "1   1 large onion , roughly chopped thumb-size pie...  vietnamese-recipes  \n",
       "2   6 x sea bass  fillets, about 140g/5oz each, sk...  vietnamese-recipes  \n",
       "3   100g rice noodle 2-3   spring onion , sliced  ...  vietnamese-recipes  \n",
       "4   250g pack thin  rice noodle 2 cooked skinless ...  vietnamese-recipes  \n",
       "5   1 tsp lemongrass  paste  (we used Bart's) 1 ts...  vietnamese-recipes  \n",
       "6   250g/9oz Chinese cabbage 175g/60z white cabbag...  vietnamese-recipes  \n",
       "7   1 large onion , roughly chopped thumb-size pie...  vietnamese-recipes  \n",
       "8   6 x sea bass  fillets, about 140g/5oz each, sk...  vietnamese-recipes  \n",
       "9   100g rice noodle 2-3   spring onion , sliced  ...  vietnamese-recipes  \n",
       "10  250g pack thin  rice noodle 2 cooked skinless ...  vietnamese-recipes  \n",
       "11  1 tsp lemongrass  paste  (we used Bart's) 1 ts...  vietnamese-recipes  "
      ]
     },
     "execution_count": 766,
     "metadata": {},
     "output_type": "execute_result"
    }
   ],
   "source": [
    "n, i, c = goodfood_scrape_wrapper()\n",
    "\n",
    "df = pd.DataFrame([n,i,c]).T\n",
    "\n",
    "df.columns = ['name', 'ingredients', 'cuisine']\n",
    "\n",
    "df['name'] = df['name'].apply(lambda x: x[0])\n",
    "df['ingredients'] = df['ingredients'].apply(lambda x: ' '.join(x))\n",
    "\n",
    "df"
   ]
  },
  {
   "cell_type": "code",
   "execution_count": 723,
   "metadata": {
    "ExecuteTime": {
     "end_time": "2021-02-10T08:33:27.648865Z",
     "start_time": "2021-02-10T08:33:27.640950Z"
    }
   },
   "outputs": [],
   "source": [
    "df = df.append(df2)"
   ]
  },
  {
   "cell_type": "code",
   "execution_count": 767,
   "metadata": {
    "ExecuteTime": {
     "end_time": "2021-02-10T08:42:07.608456Z",
     "start_time": "2021-02-10T08:42:07.595238Z"
    }
   },
   "outputs": [],
   "source": [
    "df2 = df.append(df3)"
   ]
  },
  {
   "cell_type": "code",
   "execution_count": 764,
   "metadata": {
    "ExecuteTime": {
     "end_time": "2021-02-10T08:41:58.238612Z",
     "start_time": "2021-02-10T08:41:58.219658Z"
    }
   },
   "outputs": [],
   "source": [
    "df3 = df"
   ]
  },
  {
   "cell_type": "code",
   "execution_count": 717,
   "metadata": {
    "ExecuteTime": {
     "end_time": "2021-02-10T08:31:51.809587Z",
     "start_time": "2021-02-10T08:31:51.790332Z"
    }
   },
   "outputs": [],
   "source": [
    "df2 = df"
   ]
  },
  {
   "cell_type": "code",
   "execution_count": 730,
   "metadata": {
    "ExecuteTime": {
     "end_time": "2021-02-10T08:35:35.537533Z",
     "start_time": "2021-02-10T08:35:35.514751Z"
    }
   },
   "outputs": [],
   "source": [
    "df2 = pd.read_csv('moroccan.csv', index_col = 0)"
   ]
  },
  {
   "cell_type": "code",
   "execution_count": 731,
   "metadata": {
    "ExecuteTime": {
     "end_time": "2021-02-10T08:35:35.569512Z",
     "start_time": "2021-02-10T08:35:35.537533Z"
    }
   },
   "outputs": [
    {
     "data": {
      "text/plain": [
       "(48, 3)"
      ]
     },
     "execution_count": 731,
     "metadata": {},
     "output_type": "execute_result"
    }
   ],
   "source": [
    "df2.shape"
   ]
  },
  {
   "cell_type": "code",
   "execution_count": 768,
   "metadata": {
    "ExecuteTime": {
     "end_time": "2021-02-10T08:42:08.313437Z",
     "start_time": "2021-02-10T08:42:08.290045Z"
    },
    "scrolled": true
   },
   "outputs": [
    {
     "data": {
      "text/plain": [
       "(30, 3)"
      ]
     },
     "execution_count": 768,
     "metadata": {},
     "output_type": "execute_result"
    }
   ],
   "source": [
    "df2.drop_duplicates(inplace = True)\n",
    "df2.shape"
   ]
  },
  {
   "cell_type": "code",
   "execution_count": 769,
   "metadata": {
    "ExecuteTime": {
     "end_time": "2021-02-10T08:42:19.035433Z",
     "start_time": "2021-02-10T08:42:19.013945Z"
    }
   },
   "outputs": [],
   "source": [
    "df2.to_csv('vietnamese.csv')"
   ]
  },
  {
   "cell_type": "code",
   "execution_count": null,
   "metadata": {},
   "outputs": [],
   "source": []
  }
 ],
 "metadata": {
  "kernelspec": {
   "display_name": "learn-env",
   "language": "python",
   "name": "learn-env"
  },
  "language_info": {
   "codemirror_mode": {
    "name": "ipython",
    "version": 3
   },
   "file_extension": ".py",
   "mimetype": "text/x-python",
   "name": "python",
   "nbconvert_exporter": "python",
   "pygments_lexer": "ipython3",
   "version": "3.6.9"
  }
 },
 "nbformat": 4,
 "nbformat_minor": 4
}
