{
 "cells": [
  {
   "cell_type": "code",
   "execution_count": 2,
   "metadata": {},
   "outputs": [],
   "source": [
    "import time"
   ]
  },
  {
   "cell_type": "code",
   "execution_count": 3,
   "metadata": {},
   "outputs": [],
   "source": [
    "import requests\n",
    "from bs4 import BeautifulSoup as BS\n",
    "from bs4 import NavigableString\n",
    "from urllib.request import urlopen as ureq"
   ]
  },
  {
   "cell_type": "markdown",
   "metadata": {},
   "source": [
    "# Good Food"
   ]
  },
  {
   "cell_type": "markdown",
   "metadata": {},
   "source": [
    "## Recipe Ingredients"
   ]
  },
  {
   "cell_type": "code",
   "execution_count": 268,
   "metadata": {},
   "outputs": [],
   "source": [
    "def lst_recipe_ingredients(recipe_link):\n",
    "    #get the actual recipe ingredients for a given recipe\n",
    "\n",
    "    recipe_page = requests.get(recipe_link, headers={'User-Agent': 'Mozilla/5.0'})\n",
    "    r_soup = BS(recipe_page.content, 'html.parser')\n",
    "    recipe_list = r_soup.find_all('section', class_ =\"recipe__ingredients col-12 mt-md col-lg-6\")\n",
    "    lst1 = [i.find_all('ul', class_ = 'list') for i in x]\n",
    "    lst2 = [i.find_all('li', class_ =\"pb-xxs pt-xxs list-item list-item--separator\") for i in lst1[0]]\n",
    "    lst3 = []\n",
    "    for i in lst2:\n",
    "        for b in i:\n",
    "            lst3.append(b)\n",
    "    ingred_lst = [i.get_text() for i in lst3]\n",
    "    return ingred_lst"
   ]
  },
  {
   "cell_type": "code",
   "execution_count": 269,
   "metadata": {},
   "outputs": [
    {
     "data": {
      "text/plain": [
       "['1 ½kg chicken thighs and drumsticks',\n",
       " '180g sea salt flakes',\n",
       " '90g soft dark brown sugar',\n",
       " '2 tbsp chilli flakes',\n",
       " '2 tbsp sweet smoked paprika',\n",
       " '1 tbsp ground cumin',\n",
       " '1 tbsp sea salt flakes',\n",
       " '1 tbsp dark brown sugar',\n",
       " '75g butter',\n",
       " '125ml hot chilli sauce',\n",
       " '1 tbsp maple syrup']"
      ]
     },
     "execution_count": 269,
     "metadata": {},
     "output_type": "execute_result"
    }
   ],
   "source": [
    "lst_recipe_ingredients('https://www.bbcgoodfood.com/recipes/buffalo-chicken')"
   ]
  },
  {
   "cell_type": "code",
   "execution_count": 212,
   "metadata": {},
   "outputs": [],
   "source": [
    "lst1 = [i.find_all('ul', class_ = 'list') for i in x]\n",
    "lst2 = [i.find_all('li', class_ =\"pb-xxs pt-xxs list-item list-item--separator\") for i in lst1[0]]\n",
    "lst3 = []\n",
    "for i in lst2:\n",
    "    for b in i:\n",
    "        lst3.append(b)\n",
    "ingred_lst = [i.get_text() for i in lst3]"
   ]
  },
  {
   "cell_type": "markdown",
   "metadata": {},
   "source": [
    "## Cuisine Links"
   ]
  },
  {
   "cell_type": "code",
   "execution_count": 362,
   "metadata": {},
   "outputs": [],
   "source": [
    "def lst_cuisine_links_types():\n",
    "    cuisine_page = requests.get(\"https://www.bbcgoodfood.com/recipes/category/all-cuisines\")\n",
    "    c_soup = BS(cuisine_page.content, 'html.parser')\n",
    "    cuisine_list = c_soup.find_all('a', class_ =\"standard-card-new__article-title qa-card-link\")\n",
    "\n",
    "    c_link_list = []\n",
    "    for item in cuisine_list:\n",
    "        cuisine = item['href'].replace('https://www.bbcgoodfood.com/recipes/collection/','')\n",
    "        c_link  = item['href']\n",
    "        c_link_list.append([c_link, cuisine])\n",
    "        print(c_link)\n",
    "\n",
    "    return c_link_list"
   ]
  },
  {
   "cell_type": "code",
   "execution_count": 389,
   "metadata": {},
   "outputs": [
    {
     "name": "stdout",
     "output_type": "stream",
     "text": [
      "https://www.bbcgoodfood.com/recipes/collection/american-recipes\n",
      "https://www.bbcgoodfood.com/recipes/collection/british-recipes\n",
      "https://www.bbcgoodfood.com/recipes/collection/caribbean-recipes\n",
      "https://www.bbcgoodfood.com/recipes/collection/chinese-recipes\n",
      "https://www.bbcgoodfood.com/recipes/collection/french-recipes\n",
      "https://www.bbcgoodfood.com/recipes/collection/greek-recipes\n",
      "https://www.bbcgoodfood.com/recipes/collection/indian-recipes\n",
      "https://www.bbcgoodfood.com/recipes/collection/italian-recipes\n",
      "https://www.bbcgoodfood.com/recipes/collection/japanese-recipes\n",
      "https://www.bbcgoodfood.com/recipes/collection/mediterranean-recipes\n",
      "https://www.bbcgoodfood.com/recipes/collection/mexican-recipes\n",
      "https://www.bbcgoodfood.com/recipes/collection/moroccan-recipes\n",
      "https://www.bbcgoodfood.com/recipes/collection/spanish-recipes\n",
      "https://www.bbcgoodfood.com/recipes/collection/thai-recipes\n",
      "https://www.bbcgoodfood.com/recipes/collection/turkish-recipes\n",
      "https://www.bbcgoodfood.com/recipes/collection/vietnamese-recipes\n"
     ]
    },
    {
     "data": {
      "text/plain": [
       "[['https://www.bbcgoodfood.com/recipes/collection/american-recipes',\n",
       "  'american-recipes'],\n",
       " ['https://www.bbcgoodfood.com/recipes/collection/british-recipes',\n",
       "  'british-recipes'],\n",
       " ['https://www.bbcgoodfood.com/recipes/collection/caribbean-recipes',\n",
       "  'caribbean-recipes'],\n",
       " ['https://www.bbcgoodfood.com/recipes/collection/chinese-recipes',\n",
       "  'chinese-recipes'],\n",
       " ['https://www.bbcgoodfood.com/recipes/collection/french-recipes',\n",
       "  'french-recipes'],\n",
       " ['https://www.bbcgoodfood.com/recipes/collection/greek-recipes',\n",
       "  'greek-recipes'],\n",
       " ['https://www.bbcgoodfood.com/recipes/collection/indian-recipes',\n",
       "  'indian-recipes'],\n",
       " ['https://www.bbcgoodfood.com/recipes/collection/italian-recipes',\n",
       "  'italian-recipes'],\n",
       " ['https://www.bbcgoodfood.com/recipes/collection/japanese-recipes',\n",
       "  'japanese-recipes'],\n",
       " ['https://www.bbcgoodfood.com/recipes/collection/mediterranean-recipes',\n",
       "  'mediterranean-recipes'],\n",
       " ['https://www.bbcgoodfood.com/recipes/collection/mexican-recipes',\n",
       "  'mexican-recipes'],\n",
       " ['https://www.bbcgoodfood.com/recipes/collection/moroccan-recipes',\n",
       "  'moroccan-recipes'],\n",
       " ['https://www.bbcgoodfood.com/recipes/collection/spanish-recipes',\n",
       "  'spanish-recipes'],\n",
       " ['https://www.bbcgoodfood.com/recipes/collection/thai-recipes',\n",
       "  'thai-recipes'],\n",
       " ['https://www.bbcgoodfood.com/recipes/collection/turkish-recipes',\n",
       "  'turkish-recipes'],\n",
       " ['https://www.bbcgoodfood.com/recipes/collection/vietnamese-recipes',\n",
       "  'vietnamese-recipes']]"
      ]
     },
     "execution_count": 389,
     "metadata": {},
     "output_type": "execute_result"
    }
   ],
   "source": [
    "lst_cuisine_links_types()"
   ]
  },
  {
   "cell_type": "code",
   "execution_count": 326,
   "metadata": {},
   "outputs": [],
   "source": [
    "def get_cuisine_type_links():\n",
    "    #get a page link for each cuisine classification on bbc.com\n",
    "    page = requests.get(\"https://www.bbc.co.uk/food/cuisines\")\n",
    "    #automatically goes to the BBC cuisine homepage\n",
    "    soup = BS(page.content, 'html.parser')\n",
    "\n",
    "    plist = soup.find_all(class_=\"promo promo__cuisine\")\n",
    "    plink_list = []\n",
    "    for item in plist:\n",
    "        pcuisine = item['href'].replace('/food/cuisines/','')\n",
    "        plink  = 'https://www.bbc.co.uk' + item['href'] + '/a-z'\n",
    "        plink_list.append([plink, pcuisine])\n",
    "        print(plink)\n",
    "\n",
    "    return plink_list"
   ]
  },
  {
   "cell_type": "code",
   "execution_count": 10,
   "metadata": {
    "scrolled": true
   },
   "outputs": [],
   "source": [
    "get_cuisine_type_links()"
   ]
  },
  {
   "cell_type": "markdown",
   "metadata": {},
   "source": [
    "## Links"
   ]
  },
  {
   "cell_type": "code",
   "execution_count": 4,
   "metadata": {},
   "outputs": [],
   "source": [
    "# def get_alphabet_links(cuisine_link):\n",
    "#     #gets a link for each cooresponding alphabetized page from a given cuisines link\n",
    "\n",
    "#     link_list = [] \n",
    "#     page = requests.get(cuisine_link)\n",
    "#     soup = BS(page.content, 'html.parser')\n",
    "#     test = soup.find_all(class_=\"tab-bar__tab gel-pica\")\n",
    "\n",
    "#     if test:\n",
    "#         list = soup.find_all(class_=\"az-keyboard__link gel-pica-bold\")\n",
    "#         link_list.append(cuisine_link)\n",
    "\n",
    "#         for item in list:\n",
    "#             letter_link  = 'https://www.bbc.co.uk' + item['href']\n",
    "#             link_list.append(letter_link)\n",
    "\n",
    "#     return link_list"
   ]
  },
  {
   "cell_type": "code",
   "execution_count": 6,
   "metadata": {},
   "outputs": [
    {
     "data": {
      "text/plain": [
       "[]"
      ]
     },
     "execution_count": 6,
     "metadata": {},
     "output_type": "execute_result"
    }
   ],
   "source": [
    "get_alphabet_links('https://www.bbc.co.uk/food/cuisines/african/a-z')"
   ]
  },
  {
   "cell_type": "code",
   "execution_count": 7,
   "metadata": {},
   "outputs": [],
   "source": [
    "page = requests.get('https://www.bbc.co.uk/food/cuisines/african')\n",
    "soup = BS(page.content, 'html.parser')\n",
    "test = soup.find_all(class_=\"tab-bar__tab gel-pica\")"
   ]
  },
  {
   "cell_type": "code",
   "execution_count": 382,
   "metadata": {},
   "outputs": [],
   "source": [
    "soup.find(class_=\"tab-bar__tab gel-pica\")"
   ]
  },
  {
   "cell_type": "code",
   "execution_count": 37,
   "metadata": {},
   "outputs": [],
   "source": [
    "soup"
   ]
  },
  {
   "cell_type": "markdown",
   "metadata": {},
   "source": [
    "## Recipe Links"
   ]
  },
  {
   "cell_type": "code",
   "execution_count": 33,
   "metadata": {},
   "outputs": [],
   "source": [
    "def lst_recipe_page_links(recipe_links):\n",
    "    #get all recipe links on a given alpabetized page\n",
    "\n",
    "    link_list = []\n",
    "    page = requests.get('https://www.bbcgoodfood.com/recipes/collection/american-recipes')\n",
    "    soup = BS(page.content, 'html.parser')\n",
    "    recipe_list = soup.find_all('a', class_ =\"standard-card-new__article-title qa-card-link\")\n",
    "    \n",
    "    for recipe in recipe_list:\n",
    "        recipe_link  = recipe['href']\n",
    "        link_list.append(recipe_link)\n",
    "        print(recipe_link)\n",
    "\n",
    "    return(link_list)\n",
    "        #must move the indent out one for the final run!!\n"
   ]
  },
  {
   "cell_type": "code",
   "execution_count": 36,
   "metadata": {},
   "outputs": [
    {
     "name": "stdout",
     "output_type": "stream",
     "text": [
      "https://www.bbcgoodfood.com/recipes/buffalo-chicken\n",
      "https://www.bbcgoodfood.com/recipes/texas-bbq-medley\n",
      "https://www.bbcgoodfood.com/recipes/pecan-pie-maple-cream\n",
      "https://www.bbcgoodfood.com/recipes/bbq-chicken-platter\n",
      "https://www.bbcgoodfood.com/recipes/truffled-mac-n-cheese\n",
      "https://www.bbcgoodfood.com/recipes/smores-dip\n",
      "https://www.bbcgoodfood.com/recipes/hot-gumbo-dip\n",
      "https://www.bbcgoodfood.com/recipes/fully-loaded-cajun-chicken-burgers\n",
      "https://www.bbcgoodfood.com/recipes/tomato-avocado-corn-salad-migas-buttermilk-dressing\n",
      "https://www.bbcgoodfood.com/recipes/easy-pickled-onion-rings\n",
      "https://www.bbcgoodfood.com/recipes/sticky-bourbon-bbq-wings-blue-cheese-dip\n",
      "https://www.bbcgoodfood.com/recipes/southern-fried-prawns\n",
      "https://www.bbcgoodfood.com/recipes/spicy-pies-sweet-potato-mash\n",
      "https://www.bbcgoodfood.com/recipes/cheesesteak-hotdogs\n",
      "https://www.bbcgoodfood.com/recipes/creamed-corn\n",
      "https://www.bbcgoodfood.com/recipes/american-pancakes\n",
      "https://www.bbcgoodfood.com/recipes/baby-back-ribs-carolina-baste\n",
      "https://www.bbcgoodfood.com/recipes/choc-chip-pecan-pie\n",
      "https://www.bbcgoodfood.com/recipes/american-burnt-onion-dip\n",
      "https://www.bbcgoodfood.com/recipes/smoky-braised-brisket\n",
      "https://www.bbcgoodfood.com/recipes/stickiest-ever-bbq-ribs-chive-dip\n",
      "https://www.bbcgoodfood.com/recipes/diner-sloppy-joes\n",
      "https://www.bbcgoodfood.com/recipes/safe-eat-uncooked-cookie-dough\n",
      "https://www.bbcgoodfood.com/recipes/all-american-t-bone\n"
     ]
    },
    {
     "data": {
      "text/plain": [
       "['https://www.bbcgoodfood.com/recipes/buffalo-chicken',\n",
       " 'https://www.bbcgoodfood.com/recipes/texas-bbq-medley',\n",
       " 'https://www.bbcgoodfood.com/recipes/pecan-pie-maple-cream',\n",
       " 'https://www.bbcgoodfood.com/recipes/bbq-chicken-platter',\n",
       " 'https://www.bbcgoodfood.com/recipes/truffled-mac-n-cheese',\n",
       " 'https://www.bbcgoodfood.com/recipes/smores-dip',\n",
       " 'https://www.bbcgoodfood.com/recipes/hot-gumbo-dip',\n",
       " 'https://www.bbcgoodfood.com/recipes/fully-loaded-cajun-chicken-burgers',\n",
       " 'https://www.bbcgoodfood.com/recipes/tomato-avocado-corn-salad-migas-buttermilk-dressing',\n",
       " 'https://www.bbcgoodfood.com/recipes/easy-pickled-onion-rings',\n",
       " 'https://www.bbcgoodfood.com/recipes/sticky-bourbon-bbq-wings-blue-cheese-dip',\n",
       " 'https://www.bbcgoodfood.com/recipes/southern-fried-prawns',\n",
       " 'https://www.bbcgoodfood.com/recipes/spicy-pies-sweet-potato-mash',\n",
       " 'https://www.bbcgoodfood.com/recipes/cheesesteak-hotdogs',\n",
       " 'https://www.bbcgoodfood.com/recipes/creamed-corn',\n",
       " 'https://www.bbcgoodfood.com/recipes/american-pancakes',\n",
       " 'https://www.bbcgoodfood.com/recipes/baby-back-ribs-carolina-baste',\n",
       " 'https://www.bbcgoodfood.com/recipes/choc-chip-pecan-pie',\n",
       " 'https://www.bbcgoodfood.com/recipes/american-burnt-onion-dip',\n",
       " 'https://www.bbcgoodfood.com/recipes/smoky-braised-brisket',\n",
       " 'https://www.bbcgoodfood.com/recipes/stickiest-ever-bbq-ribs-chive-dip',\n",
       " 'https://www.bbcgoodfood.com/recipes/diner-sloppy-joes',\n",
       " 'https://www.bbcgoodfood.com/recipes/safe-eat-uncooked-cookie-dough',\n",
       " 'https://www.bbcgoodfood.com/recipes/all-american-t-bone']"
      ]
     },
     "execution_count": 36,
     "metadata": {},
     "output_type": "execute_result"
    }
   ],
   "source": [
    "lst_recipe_page_links('https://www.bbcgoodfood.com/recipes/collection/american-recipes')"
   ]
  },
  {
   "cell_type": "code",
   "execution_count": 16,
   "metadata": {},
   "outputs": [],
   "source": [
    "def get_recipe_page_links(alphabet_link):\n",
    "    #get all recipe links on a given alpabetized page\n",
    "\n",
    "    link_list = []\n",
    "    page = requests.get(alphabet_link)\n",
    "    soup = BS(page.content, 'html.parser')\n",
    "    list = soup.find_all(class_=\"gel-layout__item gel-1/2 gel-1/3@m gel-1/4@xl\")\n",
    "\n",
    "    for item in list:\n",
    "        recipe_link  = 'https://www.bbc.co.uk' + item.a['href']\n",
    "        link_list.append(recipe_link)\n",
    "        print(recipe_link)\n",
    "\n",
    "    return(link_list)\n",
    "        #must move the indent out one for the final run!!\n"
   ]
  },
  {
   "cell_type": "code",
   "execution_count": 17,
   "metadata": {},
   "outputs": [
    {
     "name": "stdout",
     "output_type": "stream",
     "text": [
      "https://www.bbc.co.uk/food/recipes/beef_black-eyed-bean_and_85011\n",
      "https://www.bbc.co.uk/food/recipes/zoes_jollof_43216\n",
      "https://www.bbc.co.uk/food/recipes/bobotie_95101\n",
      "https://www.bbc.co.uk/food/recipes/nigerian_stew_and_13543\n",
      "https://www.bbc.co.uk/food/recipes/5-ingredient_33925\n",
      "https://www.bbc.co.uk/food/recipes/suya_fillet_burger_with_59824\n",
      "https://www.bbc.co.uk/food/recipes/grilled_pork_chops_with_74983\n",
      "https://www.bbc.co.uk/food/recipes/goat_and_tomato_bredie_87584\n",
      "https://www.bbc.co.uk/food/recipes/red-red_stew_with_spiced_28798\n",
      "https://www.bbc.co.uk/food/recipes/jollof_quorn_pilau_with_33526\n",
      "https://www.bbc.co.uk/food/recipes/bunny_chow_17677\n",
      "https://www.bbc.co.uk/food/recipes/jollof_rice_with_chicken_74636\n",
      "https://www.bbc.co.uk/food/recipes/manyatis_vegetable_35397\n",
      "https://www.bbc.co.uk/food/recipes/cape_malay_vegetarian_58096\n",
      "https://www.bbc.co.uk/food/recipes/jollof_rice_with_fried_84889\n",
      "https://www.bbc.co.uk/food/recipes/sadzagoatstewwithcab_89103\n",
      "https://www.bbc.co.uk/food/recipes/chicken_bastilla_with_27181\n",
      "https://www.bbc.co.uk/food/recipes/lamb_and_apricot_cape_72967\n",
      "https://www.bbc.co.uk/food/recipes/bunny_chow_38916\n",
      "https://www.bbc.co.uk/food/recipes/jollof_rice_with_fried_79619\n",
      "https://www.bbc.co.uk/food/recipes/zanzibarchicken_85461\n",
      "https://www.bbc.co.uk/food/recipes/swahilichickenandpap_71266\n",
      "https://www.bbc.co.uk/food/recipes/bobotie_83671\n"
     ]
    },
    {
     "data": {
      "text/plain": [
       "['https://www.bbc.co.uk/food/recipes/beef_black-eyed-bean_and_85011',\n",
       " 'https://www.bbc.co.uk/food/recipes/zoes_jollof_43216',\n",
       " 'https://www.bbc.co.uk/food/recipes/bobotie_95101',\n",
       " 'https://www.bbc.co.uk/food/recipes/nigerian_stew_and_13543',\n",
       " 'https://www.bbc.co.uk/food/recipes/5-ingredient_33925',\n",
       " 'https://www.bbc.co.uk/food/recipes/suya_fillet_burger_with_59824',\n",
       " 'https://www.bbc.co.uk/food/recipes/grilled_pork_chops_with_74983',\n",
       " 'https://www.bbc.co.uk/food/recipes/goat_and_tomato_bredie_87584',\n",
       " 'https://www.bbc.co.uk/food/recipes/red-red_stew_with_spiced_28798',\n",
       " 'https://www.bbc.co.uk/food/recipes/jollof_quorn_pilau_with_33526',\n",
       " 'https://www.bbc.co.uk/food/recipes/bunny_chow_17677',\n",
       " 'https://www.bbc.co.uk/food/recipes/jollof_rice_with_chicken_74636',\n",
       " 'https://www.bbc.co.uk/food/recipes/manyatis_vegetable_35397',\n",
       " 'https://www.bbc.co.uk/food/recipes/cape_malay_vegetarian_58096',\n",
       " 'https://www.bbc.co.uk/food/recipes/jollof_rice_with_fried_84889',\n",
       " 'https://www.bbc.co.uk/food/recipes/sadzagoatstewwithcab_89103',\n",
       " 'https://www.bbc.co.uk/food/recipes/chicken_bastilla_with_27181',\n",
       " 'https://www.bbc.co.uk/food/recipes/lamb_and_apricot_cape_72967',\n",
       " 'https://www.bbc.co.uk/food/recipes/bunny_chow_38916',\n",
       " 'https://www.bbc.co.uk/food/recipes/jollof_rice_with_fried_79619',\n",
       " 'https://www.bbc.co.uk/food/recipes/zanzibarchicken_85461',\n",
       " 'https://www.bbc.co.uk/food/recipes/swahilichickenandpap_71266',\n",
       " 'https://www.bbc.co.uk/food/recipes/bobotie_83671']"
      ]
     },
     "execution_count": 17,
     "metadata": {},
     "output_type": "execute_result"
    }
   ],
   "source": [
    "get_recipe_page_links('https://www.bbc.co.uk/food/cuisines/african/a-z')"
   ]
  },
  {
   "cell_type": "markdown",
   "metadata": {},
   "source": [
    "# Final Scrapper"
   ]
  },
  {
   "cell_type": "code",
   "execution_count": null,
   "metadata": {},
   "outputs": [],
   "source": [
    "def goodfood_scrape_wrapper():\n",
    "    #wrapper function that calls the above functions and iterates through them\n",
    "    #due to the slow speed of the scrape it is recommended to run cuisine pages one at a time\n",
    "    cuisine_links = [['https://www.bbcgoodfood.com/recipes/collection/american-recipes', 'american-recipes']]\n",
    "\n",
    "    '''cuisine_links = [['https://www.bbcgoodfood.com/recipes/collection/british-recipes', 'british-recipes'],\n",
    " ['https://www.bbcgoodfood.com/recipes/collection/caribbean-recipes', 'caribbean-recipes'],\n",
    " ['https://www.bbcgoodfood.com/recipes/collection/chinese-recipes', 'chinese-recipes'],\n",
    " ['https://www.bbcgoodfood.com/recipes/collection/french-recipes', 'french-recipes'],\n",
    " ['https://www.bbcgoodfood.com/recipes/collection/greek-recipes', 'greek-recipes'],\n",
    " ['https://www.bbcgoodfood.com/recipes/collection/indian-recipes', 'indian-recipes'],\n",
    " ['https://www.bbcgoodfood.com/recipes/collection/italian-recipes', 'italian-recipes'],\n",
    " ['https://www.bbcgoodfood.com/recipes/collection/japanese-recipes', 'japanese-recipes'],\n",
    " ['https://www.bbcgoodfood.com/recipes/collection/mediterranean-recipes', 'mediterranean-recipes'],\n",
    " ['https://www.bbcgoodfood.com/recipes/collection/mexican-recipes', 'mexican-recipes'],\n",
    " ['https://www.bbcgoodfood.com/recipes/collection/moroccan-recipes', 'moroccan-recipes'],\n",
    " ['https://www.bbcgoodfood.com/recipes/collection/spanish-recipes', 'spanish-recipes'], \n",
    " ['https://www.bbcgoodfood.com/recipes/collection/thai-recipes', 'thai-recipes'],\n",
    " ['https://www.bbcgoodfood.com/recipes/collection/turkish-recipes', 'turkish-recipes'],\n",
    " ['https://www.bbcgoodfood.com/recipes/collection/vietnamese-recipes', 'vietnamese-recipes']]'''\n",
    "\n",
    "    final_list = []\n",
    "\n",
    "    i=0\n",
    "\n",
    "    for cuisine_link in cuisine_links:\n",
    "        alphabet_links = get_alphabet_links(cuisine_link[0])\n",
    "        cuisine_type = cuisine_link[1]\n",
    "\n",
    "        for alphabet_link in alphabet_links:\n",
    "            recipe_links = get_recipe_page_links(alphabet_link)\n",
    "\n",
    "            for recipe_link in recipe_links:\n",
    "                ingredients = get_ingredients(recipe_link)\n",
    "                final_list.append((ingredients, cuisine_type))\n",
    "                #print(final_list)\n",
    "\n",
    "    return final_list\n"
   ]
  }
 ],
 "metadata": {
  "kernelspec": {
   "display_name": "learn-env",
   "language": "python",
   "name": "learn-env"
  },
  "language_info": {
   "codemirror_mode": {
    "name": "ipython",
    "version": 3
   },
   "file_extension": ".py",
   "mimetype": "text/x-python",
   "name": "python",
   "nbconvert_exporter": "python",
   "pygments_lexer": "ipython3",
   "version": "3.6.9"
  }
 },
 "nbformat": 4,
 "nbformat_minor": 4
}
