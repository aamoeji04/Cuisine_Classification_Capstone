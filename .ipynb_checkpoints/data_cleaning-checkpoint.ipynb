{
 "cells": [
  {
   "cell_type": "code",
   "execution_count": 8,
   "metadata": {
    "ExecuteTime": {
     "end_time": "2021-02-12T09:16:11.636591Z",
     "start_time": "2021-02-12T09:16:11.606172Z"
    }
   },
   "outputs": [
    {
     "name": "stderr",
     "output_type": "stream",
     "text": [
      "[nltk_data] Downloading package stopwords to\n",
      "[nltk_data]     C:\\Users\\akams\\AppData\\Roaming\\nltk_data...\n",
      "[nltk_data]   Package stopwords is already up-to-date!\n",
      "[nltk_data] Downloading package punkt to\n",
      "[nltk_data]     C:\\Users\\akams\\AppData\\Roaming\\nltk_data...\n",
      "[nltk_data]   Package punkt is already up-to-date!\n",
      "[nltk_data] Downloading package wordnet to\n",
      "[nltk_data]     C:\\Users\\akams\\AppData\\Roaming\\nltk_data...\n",
      "[nltk_data]   Package wordnet is already up-to-date!\n"
     ]
    },
    {
     "data": {
      "text/plain": [
       "True"
      ]
     },
     "execution_count": 8,
     "metadata": {},
     "output_type": "execute_result"
    }
   ],
   "source": [
    "import re\n",
    "import string\n",
    "import pandas as pd\n",
    "import seaborn as sns\n",
    "import matplotlib.pyplot as plt\n",
    "from matplotlib import cm\n",
    "%matplotlib inline\n",
    "import numpy as np\n",
    "from sklearn.feature_extraction.text import CountVectorizer #\n",
    "from sklearn.feature_extraction.text import TfidfVectorizer #\n",
    "from sklearn.feature_extraction.text import TfidfTransformer\n",
    "from sklearn.metrics import confusion_matrix\n",
    "from sklearn.naive_bayes import MultinomialNB\n",
    "from sklearn import metrics\n",
    "from sklearn.model_selection import train_test_split\n",
    "from sklearn.ensemble import RandomForestClassifier\n",
    "from sklearn.metrics import accuracy_score\n",
    "from sklearn.metrics import f1_score\n",
    "from sklearn.naive_bayes import MultinomialNB\n",
    "import nltk\n",
    "from nltk.probability import FreqDist\n",
    "from nltk.corpus import stopwords #\n",
    "from nltk.tokenize import RegexpTokenizer\n",
    "from nltk.stem import PorterStemmer\n",
    "from nltk.stem import WordNetLemmatizer \n",
    "\n",
    "# make sure stopwords are downloaded\n",
    "nltk.download('stopwords')\n",
    "nltk.download('punkt')\n",
    "nltk.download('wordnet')\n",
    "tokenizer = RegexpTokenizer(r'[a-zA-Z0-9]+')"
   ]
  },
  {
   "cell_type": "markdown",
   "metadata": {},
   "source": [
    "# Import and load data"
   ]
  },
  {
   "cell_type": "code",
   "execution_count": 2,
   "metadata": {
    "ExecuteTime": {
     "end_time": "2021-02-12T09:15:12.678481Z",
     "start_time": "2021-02-12T09:15:12.600329Z"
    },
    "scrolled": false
   },
   "outputs": [
    {
     "name": "stdout",
     "output_type": "stream",
     "text": [
      "(900, 2)\n"
     ]
    },
    {
     "data": {
      "text/html": [
       "<div>\n",
       "<style scoped>\n",
       "    .dataframe tbody tr th:only-of-type {\n",
       "        vertical-align: middle;\n",
       "    }\n",
       "\n",
       "    .dataframe tbody tr th {\n",
       "        vertical-align: top;\n",
       "    }\n",
       "\n",
       "    .dataframe thead th {\n",
       "        text-align: right;\n",
       "    }\n",
       "</style>\n",
       "<table border=\"1\" class=\"dataframe\">\n",
       "  <thead>\n",
       "    <tr style=\"text-align: right;\">\n",
       "      <th></th>\n",
       "      <th>Ingredients</th>\n",
       "      <th>Cuisine</th>\n",
       "    </tr>\n",
       "  </thead>\n",
       "  <tbody>\n",
       "    <tr>\n",
       "      <th>0</th>\n",
       "      <td>1 ½kg chicken thighs and drumsticks 180g sea s...</td>\n",
       "      <td>1</td>\n",
       "    </tr>\n",
       "    <tr>\n",
       "      <th>1</th>\n",
       "      <td>1 large chicken 5 beef short ribs (about 3kg),...</td>\n",
       "      <td>1</td>\n",
       "    </tr>\n",
       "    <tr>\n",
       "      <th>2</th>\n",
       "      <td>150g unsalted butter , softened 80g golden cas...</td>\n",
       "      <td>1</td>\n",
       "    </tr>\n",
       "    <tr>\n",
       "      <th>3</th>\n",
       "      <td>1 whole chicken , jointed, or 8 bone-in chicke...</td>\n",
       "      <td>1</td>\n",
       "    </tr>\n",
       "    <tr>\n",
       "      <th>4</th>\n",
       "      <td>500g macaroni 1l whole milk 2 bay leaves 60g b...</td>\n",
       "      <td>1</td>\n",
       "    </tr>\n",
       "  </tbody>\n",
       "</table>\n",
       "</div>"
      ],
      "text/plain": [
       "                                         Ingredients  Cuisine\n",
       "0  1 ½kg chicken thighs and drumsticks 180g sea s...        1\n",
       "1  1 large chicken 5 beef short ribs (about 3kg),...        1\n",
       "2  150g unsalted butter , softened 80g golden cas...        1\n",
       "3  1 whole chicken , jointed, or 8 bone-in chicke...        1\n",
       "4  500g macaroni 1l whole milk 2 bay leaves 60g b...        1"
      ]
     },
     "execution_count": 2,
     "metadata": {},
     "output_type": "execute_result"
    }
   ],
   "source": [
    "df = pd.read_csv('final_bbc_data.csv', index_col = 0)\n",
    "print(df.shape)\n",
    "df.head()"
   ]
  },
  {
   "cell_type": "markdown",
   "metadata": {
    "heading_collapsed": true
   },
   "source": [
    "# Cleaning"
   ]
  },
  {
   "cell_type": "code",
   "execution_count": 99,
   "metadata": {
    "ExecuteTime": {
     "end_time": "2021-02-11T20:41:52.794475Z",
     "start_time": "2021-02-11T20:41:52.774530Z"
    },
    "hidden": true
   },
   "outputs": [],
   "source": [
    "# grab specified string from dataframe\n",
    "def testing_str(index_num):\n",
    "    read = df['Ingredients'][index_num]\n",
    "    return read"
   ]
  },
  {
   "cell_type": "code",
   "execution_count": 42,
   "metadata": {
    "ExecuteTime": {
     "end_time": "2021-02-12T09:32:18.148745Z",
     "start_time": "2021-02-12T09:32:18.129443Z"
    },
    "hidden": true
   },
   "outputs": [],
   "source": [
    "def shallow_cleaning(_corpus):\n",
    "    _corpus = _corpus.lower() # lowercase\n",
    "    _corpus = re.sub('\\[.*/()]', '', _corpus) # removes data in brackets\n",
    "    _corpus = re.sub('[%s]' % re.escape(string.punctuation), '', _corpus) # list of punctuation, get rid of any punctuation\n",
    "    _corpus = re.sub('\\w*\\d\\w*', '', _corpus) # removes all numbers and any words that comtain them\n",
    "    return _corpus\n",
    "# apply the function and assign to variable\n",
    "shallow_clean = lambda x: shallow_cleaning(x)"
   ]
  },
  {
   "cell_type": "code",
   "execution_count": 43,
   "metadata": {
    "ExecuteTime": {
     "end_time": "2021-02-12T09:32:18.454231Z",
     "start_time": "2021-02-12T09:32:18.382304Z"
    },
    "hidden": true
   },
   "outputs": [],
   "source": [
    "shallow_ingredients = pd.DataFrame(df['Ingredients'].apply(shallow_clean))"
   ]
  },
  {
   "cell_type": "code",
   "execution_count": 44,
   "metadata": {
    "ExecuteTime": {
     "end_time": "2021-02-12T09:32:18.860979Z",
     "start_time": "2021-02-12T09:32:18.833380Z"
    },
    "hidden": true
   },
   "outputs": [
    {
     "data": {
      "text/html": [
       "<div>\n",
       "<style scoped>\n",
       "    .dataframe tbody tr th:only-of-type {\n",
       "        vertical-align: middle;\n",
       "    }\n",
       "\n",
       "    .dataframe tbody tr th {\n",
       "        vertical-align: top;\n",
       "    }\n",
       "\n",
       "    .dataframe thead th {\n",
       "        text-align: right;\n",
       "    }\n",
       "</style>\n",
       "<table border=\"1\" class=\"dataframe\">\n",
       "  <thead>\n",
       "    <tr style=\"text-align: right;\">\n",
       "      <th></th>\n",
       "      <th>Ingredients</th>\n",
       "    </tr>\n",
       "  </thead>\n",
       "  <tbody>\n",
       "    <tr>\n",
       "      <th>0</th>\n",
       "      <td>½kg chicken thighs and drumsticks  sea salt f...</td>\n",
       "    </tr>\n",
       "    <tr>\n",
       "      <th>1</th>\n",
       "      <td>large chicken  beef short ribs about  ribs se...</td>\n",
       "    </tr>\n",
       "    <tr>\n",
       "      <th>2</th>\n",
       "      <td>unsalted butter  softened  golden caster suga...</td>\n",
       "    </tr>\n",
       "    <tr>\n",
       "      <th>3</th>\n",
       "      <td>whole chicken  jointed or  bonein chicken pie...</td>\n",
       "    </tr>\n",
       "    <tr>\n",
       "      <th>4</th>\n",
       "      <td>macaroni  whole milk  bay leaves  butter  pla...</td>\n",
       "    </tr>\n",
       "    <tr>\n",
       "      <th>...</th>\n",
       "      <td>...</td>\n",
       "    </tr>\n",
       "    <tr>\n",
       "      <th>895</th>\n",
       "      <td>urid dal black gram  vegetable oil  tsp fresh...</td>\n",
       "    </tr>\n",
       "    <tr>\n",
       "      <th>896</th>\n",
       "      <td>strong white flour   tsp salt  sachet fastact...</td>\n",
       "    </tr>\n",
       "    <tr>\n",
       "      <th>897</th>\n",
       "      <td>chopped rhubarb  light soft brown sugar  tsp...</td>\n",
       "    </tr>\n",
       "    <tr>\n",
       "      <th>898</th>\n",
       "      <td>gram flour  selfraising flour ½ tsp red chill...</td>\n",
       "    </tr>\n",
       "    <tr>\n",
       "      <th>899</th>\n",
       "      <td>tbsp vegetable oil  piece ginger grated  larg...</td>\n",
       "    </tr>\n",
       "  </tbody>\n",
       "</table>\n",
       "<p>900 rows × 1 columns</p>\n",
       "</div>"
      ],
      "text/plain": [
       "                                           Ingredients\n",
       "0     ½kg chicken thighs and drumsticks  sea salt f...\n",
       "1     large chicken  beef short ribs about  ribs se...\n",
       "2     unsalted butter  softened  golden caster suga...\n",
       "3     whole chicken  jointed or  bonein chicken pie...\n",
       "4     macaroni  whole milk  bay leaves  butter  pla...\n",
       "..                                                 ...\n",
       "895   urid dal black gram  vegetable oil  tsp fresh...\n",
       "896   strong white flour   tsp salt  sachet fastact...\n",
       "897    chopped rhubarb  light soft brown sugar  tsp...\n",
       "898   gram flour  selfraising flour ½ tsp red chill...\n",
       "899   tbsp vegetable oil  piece ginger grated  larg...\n",
       "\n",
       "[900 rows x 1 columns]"
      ]
     },
     "execution_count": 44,
     "metadata": {},
     "output_type": "execute_result"
    }
   ],
   "source": [
    "shallow_ingredients"
   ]
  },
  {
   "cell_type": "code",
   "execution_count": 26,
   "metadata": {
    "ExecuteTime": {
     "end_time": "2021-02-12T09:28:00.304710Z",
     "start_time": "2021-02-12T09:28:00.296705Z"
    },
    "hidden": true
   },
   "outputs": [],
   "source": [
    "shallow_df = shallow_ingredients.join(df['Cuisine'])"
   ]
  },
  {
   "cell_type": "code",
   "execution_count": 59,
   "metadata": {
    "ExecuteTime": {
     "end_time": "2021-02-12T09:52:12.899986Z",
     "start_time": "2021-02-12T09:52:12.878338Z"
    },
    "hidden": true
   },
   "outputs": [],
   "source": [
    "# use regex for deep cleaning\n",
    "def deep_cleaning(_corpus):\n",
    "    tokenizer = RegexpTokenizer(r'[a-zA-Z0-9]+')\n",
    "    tokenized_corpus = tokenizer.tokenize(_corpus)\n",
    "    n_corpus = ' '.join(tokenized_corpus) \n",
    "    return n_corpus\n",
    "# apply the function and assign to variable\n",
    "deep_clean = lambda x: deep_cleaning(x)"
   ]
  },
  {
   "cell_type": "code",
   "execution_count": 62,
   "metadata": {
    "ExecuteTime": {
     "end_time": "2021-02-12T09:53:09.218070Z",
     "start_time": "2021-02-12T09:53:09.193871Z"
    },
    "hidden": true
   },
   "outputs": [],
   "source": [
    "deep_ingredients = pd.DataFrame(shallow_df['Ingredients'].apply(deep_clean))"
   ]
  },
  {
   "cell_type": "code",
   "execution_count": 64,
   "metadata": {
    "ExecuteTime": {
     "end_time": "2021-02-12T09:53:48.839862Z",
     "start_time": "2021-02-12T09:53:48.830940Z"
    },
    "hidden": true
   },
   "outputs": [],
   "source": [
    "deep_df = deep_ingredients.join(df['Cuisine'])"
   ]
  },
  {
   "cell_type": "code",
   "execution_count": 67,
   "metadata": {
    "ExecuteTime": {
     "end_time": "2021-02-12T10:00:37.656552Z",
     "start_time": "2021-02-12T10:00:37.632781Z"
    },
    "hidden": true
   },
   "outputs": [
    {
     "data": {
      "text/html": [
       "<div>\n",
       "<style scoped>\n",
       "    .dataframe tbody tr th:only-of-type {\n",
       "        vertical-align: middle;\n",
       "    }\n",
       "\n",
       "    .dataframe tbody tr th {\n",
       "        vertical-align: top;\n",
       "    }\n",
       "\n",
       "    .dataframe thead th {\n",
       "        text-align: right;\n",
       "    }\n",
       "</style>\n",
       "<table border=\"1\" class=\"dataframe\">\n",
       "  <thead>\n",
       "    <tr style=\"text-align: right;\">\n",
       "      <th></th>\n",
       "      <th>Ingredients</th>\n",
       "      <th>Cuisine</th>\n",
       "    </tr>\n",
       "  </thead>\n",
       "  <tbody>\n",
       "    <tr>\n",
       "      <th>0</th>\n",
       "      <td>kg chicken thighs and drumsticks sea salt flak...</td>\n",
       "      <td>1</td>\n",
       "    </tr>\n",
       "    <tr>\n",
       "      <th>1</th>\n",
       "      <td>large chicken beef short ribs about ribs separ...</td>\n",
       "      <td>1</td>\n",
       "    </tr>\n",
       "    <tr>\n",
       "      <th>2</th>\n",
       "      <td>unsalted butter softened golden caster sugar l...</td>\n",
       "      <td>1</td>\n",
       "    </tr>\n",
       "    <tr>\n",
       "      <th>3</th>\n",
       "      <td>whole chicken jointed or bonein chicken pieces...</td>\n",
       "      <td>1</td>\n",
       "    </tr>\n",
       "    <tr>\n",
       "      <th>4</th>\n",
       "      <td>macaroni whole milk bay leaves butter plain fl...</td>\n",
       "      <td>1</td>\n",
       "    </tr>\n",
       "    <tr>\n",
       "      <th>...</th>\n",
       "      <td>...</td>\n",
       "      <td>...</td>\n",
       "    </tr>\n",
       "    <tr>\n",
       "      <th>895</th>\n",
       "      <td>urid dal black gram vegetable oil tsp freshly ...</td>\n",
       "      <td>20</td>\n",
       "    </tr>\n",
       "    <tr>\n",
       "      <th>896</th>\n",
       "      <td>strong white flour tsp salt sachet fastaction ...</td>\n",
       "      <td>20</td>\n",
       "    </tr>\n",
       "    <tr>\n",
       "      <th>897</th>\n",
       "      <td>chopped rhubarb light soft brown sugar tsp van...</td>\n",
       "      <td>20</td>\n",
       "    </tr>\n",
       "    <tr>\n",
       "      <th>898</th>\n",
       "      <td>gram flour selfraising flour tsp red chilli po...</td>\n",
       "      <td>20</td>\n",
       "    </tr>\n",
       "    <tr>\n",
       "      <th>899</th>\n",
       "      <td>tbsp vegetable oil piece ginger grated large g...</td>\n",
       "      <td>20</td>\n",
       "    </tr>\n",
       "  </tbody>\n",
       "</table>\n",
       "<p>900 rows × 2 columns</p>\n",
       "</div>"
      ],
      "text/plain": [
       "                                           Ingredients  Cuisine\n",
       "0    kg chicken thighs and drumsticks sea salt flak...        1\n",
       "1    large chicken beef short ribs about ribs separ...        1\n",
       "2    unsalted butter softened golden caster sugar l...        1\n",
       "3    whole chicken jointed or bonein chicken pieces...        1\n",
       "4    macaroni whole milk bay leaves butter plain fl...        1\n",
       "..                                                 ...      ...\n",
       "895  urid dal black gram vegetable oil tsp freshly ...       20\n",
       "896  strong white flour tsp salt sachet fastaction ...       20\n",
       "897  chopped rhubarb light soft brown sugar tsp van...       20\n",
       "898  gram flour selfraising flour tsp red chilli po...       20\n",
       "899  tbsp vegetable oil piece ginger grated large g...       20\n",
       "\n",
       "[900 rows x 2 columns]"
      ]
     },
     "execution_count": 67,
     "metadata": {},
     "output_type": "execute_result"
    }
   ],
   "source": [
    "deep_df"
   ]
  },
  {
   "cell_type": "code",
   "execution_count": 128,
   "metadata": {
    "ExecuteTime": {
     "end_time": "2021-02-12T10:30:42.990628Z",
     "start_time": "2021-02-12T10:30:42.982312Z"
    },
    "hidden": true
   },
   "outputs": [],
   "source": [
    "def nltk_stopwords(string):\n",
    "    stop_words = set(stopwords.words('english'))\n",
    "    tokenized_string = tokenizer.tokenize(string)\n",
    "    cleaned_string = [word for word in tokenized_string if word not in stop_words]\n",
    "    new_str = ' '.join(cleaned_string)\n",
    "    return new_str\n",
    "\n",
    "remove_nltks = lambda x: nltk_stopwords(x)\n",
    "\n",
    "def custom_stopwords(string):\n",
    "    custom_stop_words = ['oz', 'lb', 'lbs', 'g', 'kg', 'gram', 'grams', 'cm', 'inch', 'ounce', 'pound', 'tsp', 'tbsp', 'small', 'medium', 'large']\n",
    "    tokenized_string = tokenizer.tokenize(string)\n",
    "    cleaned_string = [word for word in tokenized_string if word not in custom_stop_words]\n",
    "    new_str = ' '.join(cleaned_string)\n",
    "    return new_str \n",
    "\n",
    "remove_customs = lambda x: custom_stopwords(x)"
   ]
  },
  {
   "cell_type": "code",
   "execution_count": 133,
   "metadata": {
    "ExecuteTime": {
     "end_time": "2021-02-12T10:33:40.686117Z",
     "start_time": "2021-02-12T10:33:40.654636Z"
    },
    "hidden": true
   },
   "outputs": [],
   "source": [
    "custom_ings = pd.DataFrame(deep_df['Ingredients'].apply(remove_customs))"
   ]
  },
  {
   "cell_type": "code",
   "execution_count": 134,
   "metadata": {
    "ExecuteTime": {
     "end_time": "2021-02-12T10:33:50.968226Z",
     "start_time": "2021-02-12T10:33:50.946425Z"
    },
    "hidden": true
   },
   "outputs": [],
   "source": [
    "rmv_custom_df = custom_ings.join(df['Cuisine'])"
   ]
  },
  {
   "cell_type": "code",
   "execution_count": 136,
   "metadata": {
    "ExecuteTime": {
     "end_time": "2021-02-12T10:35:18.273534Z",
     "start_time": "2021-02-12T10:35:17.933654Z"
    },
    "hidden": true
   },
   "outputs": [],
   "source": [
    "nltk_ings = pd.DataFrame(rmv_custom_df['Ingredients'].apply(remove_nltks))"
   ]
  },
  {
   "cell_type": "code",
   "execution_count": 137,
   "metadata": {
    "ExecuteTime": {
     "end_time": "2021-02-12T10:35:49.072477Z",
     "start_time": "2021-02-12T10:35:49.065887Z"
    },
    "hidden": true
   },
   "outputs": [],
   "source": [
    "df2 = nltk_ings.join(df['Cuisine'])"
   ]
  },
  {
   "cell_type": "code",
   "execution_count": 138,
   "metadata": {
    "ExecuteTime": {
     "end_time": "2021-02-12T10:35:51.465183Z",
     "start_time": "2021-02-12T10:35:51.450985Z"
    },
    "hidden": true,
    "scrolled": true
   },
   "outputs": [
    {
     "data": {
      "text/html": [
       "<div>\n",
       "<style scoped>\n",
       "    .dataframe tbody tr th:only-of-type {\n",
       "        vertical-align: middle;\n",
       "    }\n",
       "\n",
       "    .dataframe tbody tr th {\n",
       "        vertical-align: top;\n",
       "    }\n",
       "\n",
       "    .dataframe thead th {\n",
       "        text-align: right;\n",
       "    }\n",
       "</style>\n",
       "<table border=\"1\" class=\"dataframe\">\n",
       "  <thead>\n",
       "    <tr style=\"text-align: right;\">\n",
       "      <th></th>\n",
       "      <th>Ingredients</th>\n",
       "      <th>Cuisine</th>\n",
       "    </tr>\n",
       "  </thead>\n",
       "  <tbody>\n",
       "    <tr>\n",
       "      <th>0</th>\n",
       "      <td>chicken thighs drumsticks sea salt flakes soft...</td>\n",
       "      <td>1</td>\n",
       "    </tr>\n",
       "    <tr>\n",
       "      <th>1</th>\n",
       "      <td>chicken beef short ribs ribs separated piece b...</td>\n",
       "      <td>1</td>\n",
       "    </tr>\n",
       "    <tr>\n",
       "      <th>2</th>\n",
       "      <td>unsalted butter softened golden caster sugar e...</td>\n",
       "      <td>1</td>\n",
       "    </tr>\n",
       "    <tr>\n",
       "      <th>3</th>\n",
       "      <td>whole chicken jointed bonein chicken pieces us...</td>\n",
       "      <td>1</td>\n",
       "    </tr>\n",
       "    <tr>\n",
       "      <th>4</th>\n",
       "      <td>macaroni whole milk bay leaves butter plain fl...</td>\n",
       "      <td>1</td>\n",
       "    </tr>\n",
       "    <tr>\n",
       "      <th>...</th>\n",
       "      <td>...</td>\n",
       "      <td>...</td>\n",
       "    </tr>\n",
       "    <tr>\n",
       "      <th>895</th>\n",
       "      <td>urid dal black vegetable oil freshly grated gi...</td>\n",
       "      <td>20</td>\n",
       "    </tr>\n",
       "    <tr>\n",
       "      <th>896</th>\n",
       "      <td>strong white flour salt sachet fastaction drie...</td>\n",
       "      <td>20</td>\n",
       "    </tr>\n",
       "    <tr>\n",
       "      <th>897</th>\n",
       "      <td>chopped rhubarb light soft brown sugar vanilla...</td>\n",
       "      <td>20</td>\n",
       "    </tr>\n",
       "    <tr>\n",
       "      <th>898</th>\n",
       "      <td>flour selfraising flour red chilli powder gara...</td>\n",
       "      <td>20</td>\n",
       "    </tr>\n",
       "    <tr>\n",
       "      <th>899</th>\n",
       "      <td>vegetable oil piece ginger grated garlic clove...</td>\n",
       "      <td>20</td>\n",
       "    </tr>\n",
       "  </tbody>\n",
       "</table>\n",
       "<p>900 rows × 2 columns</p>\n",
       "</div>"
      ],
      "text/plain": [
       "                                           Ingredients  Cuisine\n",
       "0    chicken thighs drumsticks sea salt flakes soft...        1\n",
       "1    chicken beef short ribs ribs separated piece b...        1\n",
       "2    unsalted butter softened golden caster sugar e...        1\n",
       "3    whole chicken jointed bonein chicken pieces us...        1\n",
       "4    macaroni whole milk bay leaves butter plain fl...        1\n",
       "..                                                 ...      ...\n",
       "895  urid dal black vegetable oil freshly grated gi...       20\n",
       "896  strong white flour salt sachet fastaction drie...       20\n",
       "897  chopped rhubarb light soft brown sugar vanilla...       20\n",
       "898  flour selfraising flour red chilli powder gara...       20\n",
       "899  vegetable oil piece ginger grated garlic clove...       20\n",
       "\n",
       "[900 rows x 2 columns]"
      ]
     },
     "execution_count": 138,
     "metadata": {},
     "output_type": "execute_result"
    }
   ],
   "source": [
    "df2"
   ]
  },
  {
   "cell_type": "markdown",
   "metadata": {},
   "source": [
    "# Organizing"
   ]
  },
  {
   "cell_type": "code",
   "execution_count": 141,
   "metadata": {
    "ExecuteTime": {
     "end_time": "2021-02-12T10:40:05.911273Z",
     "start_time": "2021-02-12T10:40:05.893798Z"
    }
   },
   "outputs": [],
   "source": [
    "test2 = df2['Ingredients'][0]"
   ]
  },
  {
   "cell_type": "code",
   "execution_count": 144,
   "metadata": {
    "ExecuteTime": {
     "end_time": "2021-02-12T10:40:27.943492Z",
     "start_time": "2021-02-12T10:40:27.928898Z"
    }
   },
   "outputs": [],
   "source": [
    "test2 = tokenizer.tokenize(test2)"
   ]
  },
  {
   "cell_type": "code",
   "execution_count": 48,
   "metadata": {
    "ExecuteTime": {
     "end_time": "2021-02-12T09:41:59.208957Z",
     "start_time": "2021-02-12T09:41:59.184418Z"
    }
   },
   "outputs": [],
   "source": [
    "def plot_fdist(arg, n):\n",
    "    fdist = FreqDist(arg)\n",
    "    plt.figure(figsize=(10, 10))\n",
    "    return fdist.plot(n)"
   ]
  },
  {
   "cell_type": "code",
   "execution_count": 145,
   "metadata": {
    "ExecuteTime": {
     "end_time": "2021-02-12T10:40:33.155976Z",
     "start_time": "2021-02-12T10:40:32.995250Z"
    }
   },
   "outputs": [
    {
     "data": {
      "image/png": "[encoded data removed]",
      "text/plain": [
       "<Figure size 720x720 with 1 Axes>"
      ]
     },
     "metadata": {
      "needs_background": "light"
     },
     "output_type": "display_data"
    },
    {
     "data": {
      "text/plain": [
       "<matplotlib.axes._subplots.AxesSubplot at 0x146dee58ef0>"
      ]
     },
     "execution_count": 145,
     "metadata": {},
     "output_type": "execute_result"
    }
   ],
   "source": [
    "plot_fdist(test2, 20)"
   ]
  },
  {
   "cell_type": "markdown",
   "metadata": {},
   "source": [
    "**Look into words that make need many of the same ingredient.**"
   ]
  },
  {
   "cell_type": "code",
   "execution_count": 167,
   "metadata": {
    "ExecuteTime": {
     "end_time": "2021-02-12T11:05:37.461807Z",
     "start_time": "2021-02-12T11:05:37.446793Z"
    }
   },
   "outputs": [],
   "source": [
    "more_words = ['absorbing', 'according', 'action', 'add', 'youre', 'youve', 'zest', \n",
    "             'zested']"
   ]
  },
  {
   "cell_type": "code",
   "execution_count": 168,
   "metadata": {
    "ExecuteTime": {
     "end_time": "2021-02-12T11:05:37.729657Z",
     "start_time": "2021-02-12T11:05:37.660842Z"
    }
   },
   "outputs": [
    {
     "data": {
      "text/html": [
       "<div>\n",
       "<style scoped>\n",
       "    .dataframe tbody tr th:only-of-type {\n",
       "        vertical-align: middle;\n",
       "    }\n",
       "\n",
       "    .dataframe tbody tr th {\n",
       "        vertical-align: top;\n",
       "    }\n",
       "\n",
       "    .dataframe thead th {\n",
       "        text-align: right;\n",
       "    }\n",
       "</style>\n",
       "<table border=\"1\" class=\"dataframe\">\n",
       "  <thead>\n",
       "    <tr style=\"text-align: right;\">\n",
       "      <th></th>\n",
       "      <th>aberdeen</th>\n",
       "      <th>adam</th>\n",
       "      <th>african</th>\n",
       "      <th>airdried</th>\n",
       "      <th>ale</th>\n",
       "      <th>allbutter</th>\n",
       "      <th>allspice</th>\n",
       "      <th>almond</th>\n",
       "      <th>almonds</th>\n",
       "      <th>along</th>\n",
       "      <th>...</th>\n",
       "      <th>wraps</th>\n",
       "      <th>xylitol</th>\n",
       "      <th>yeast</th>\n",
       "      <th>yellow</th>\n",
       "      <th>yoghurt</th>\n",
       "      <th>yogurt</th>\n",
       "      <th>yolk</th>\n",
       "      <th>yolks</th>\n",
       "      <th>young</th>\n",
       "      <th>yuzu</th>\n",
       "    </tr>\n",
       "  </thead>\n",
       "  <tbody>\n",
       "    <tr>\n",
       "      <th>0</th>\n",
       "      <td>0</td>\n",
       "      <td>0</td>\n",
       "      <td>0</td>\n",
       "      <td>0</td>\n",
       "      <td>0</td>\n",
       "      <td>0</td>\n",
       "      <td>0</td>\n",
       "      <td>0</td>\n",
       "      <td>0</td>\n",
       "      <td>0</td>\n",
       "      <td>...</td>\n",
       "      <td>0</td>\n",
       "      <td>0</td>\n",
       "      <td>0</td>\n",
       "      <td>0</td>\n",
       "      <td>0</td>\n",
       "      <td>0</td>\n",
       "      <td>0</td>\n",
       "      <td>0</td>\n",
       "      <td>0</td>\n",
       "      <td>0</td>\n",
       "    </tr>\n",
       "    <tr>\n",
       "      <th>1</th>\n",
       "      <td>0</td>\n",
       "      <td>0</td>\n",
       "      <td>0</td>\n",
       "      <td>0</td>\n",
       "      <td>0</td>\n",
       "      <td>0</td>\n",
       "      <td>0</td>\n",
       "      <td>0</td>\n",
       "      <td>0</td>\n",
       "      <td>0</td>\n",
       "      <td>...</td>\n",
       "      <td>0</td>\n",
       "      <td>0</td>\n",
       "      <td>0</td>\n",
       "      <td>0</td>\n",
       "      <td>0</td>\n",
       "      <td>0</td>\n",
       "      <td>0</td>\n",
       "      <td>0</td>\n",
       "      <td>0</td>\n",
       "      <td>0</td>\n",
       "    </tr>\n",
       "    <tr>\n",
       "      <th>2</th>\n",
       "      <td>0</td>\n",
       "      <td>0</td>\n",
       "      <td>0</td>\n",
       "      <td>0</td>\n",
       "      <td>0</td>\n",
       "      <td>0</td>\n",
       "      <td>0</td>\n",
       "      <td>0</td>\n",
       "      <td>0</td>\n",
       "      <td>0</td>\n",
       "      <td>...</td>\n",
       "      <td>0</td>\n",
       "      <td>0</td>\n",
       "      <td>0</td>\n",
       "      <td>0</td>\n",
       "      <td>0</td>\n",
       "      <td>0</td>\n",
       "      <td>0</td>\n",
       "      <td>1</td>\n",
       "      <td>0</td>\n",
       "      <td>0</td>\n",
       "    </tr>\n",
       "    <tr>\n",
       "      <th>3</th>\n",
       "      <td>0</td>\n",
       "      <td>0</td>\n",
       "      <td>0</td>\n",
       "      <td>0</td>\n",
       "      <td>0</td>\n",
       "      <td>0</td>\n",
       "      <td>0</td>\n",
       "      <td>0</td>\n",
       "      <td>0</td>\n",
       "      <td>0</td>\n",
       "      <td>...</td>\n",
       "      <td>0</td>\n",
       "      <td>0</td>\n",
       "      <td>0</td>\n",
       "      <td>0</td>\n",
       "      <td>0</td>\n",
       "      <td>0</td>\n",
       "      <td>0</td>\n",
       "      <td>0</td>\n",
       "      <td>0</td>\n",
       "      <td>0</td>\n",
       "    </tr>\n",
       "    <tr>\n",
       "      <th>4</th>\n",
       "      <td>0</td>\n",
       "      <td>0</td>\n",
       "      <td>0</td>\n",
       "      <td>0</td>\n",
       "      <td>0</td>\n",
       "      <td>0</td>\n",
       "      <td>0</td>\n",
       "      <td>0</td>\n",
       "      <td>0</td>\n",
       "      <td>0</td>\n",
       "      <td>...</td>\n",
       "      <td>0</td>\n",
       "      <td>0</td>\n",
       "      <td>0</td>\n",
       "      <td>0</td>\n",
       "      <td>0</td>\n",
       "      <td>0</td>\n",
       "      <td>0</td>\n",
       "      <td>0</td>\n",
       "      <td>0</td>\n",
       "      <td>0</td>\n",
       "    </tr>\n",
       "    <tr>\n",
       "      <th>...</th>\n",
       "      <td>...</td>\n",
       "      <td>...</td>\n",
       "      <td>...</td>\n",
       "      <td>...</td>\n",
       "      <td>...</td>\n",
       "      <td>...</td>\n",
       "      <td>...</td>\n",
       "      <td>...</td>\n",
       "      <td>...</td>\n",
       "      <td>...</td>\n",
       "      <td>...</td>\n",
       "      <td>...</td>\n",
       "      <td>...</td>\n",
       "      <td>...</td>\n",
       "      <td>...</td>\n",
       "      <td>...</td>\n",
       "      <td>...</td>\n",
       "      <td>...</td>\n",
       "      <td>...</td>\n",
       "      <td>...</td>\n",
       "      <td>...</td>\n",
       "    </tr>\n",
       "    <tr>\n",
       "      <th>895</th>\n",
       "      <td>0</td>\n",
       "      <td>0</td>\n",
       "      <td>0</td>\n",
       "      <td>0</td>\n",
       "      <td>0</td>\n",
       "      <td>0</td>\n",
       "      <td>0</td>\n",
       "      <td>0</td>\n",
       "      <td>0</td>\n",
       "      <td>0</td>\n",
       "      <td>...</td>\n",
       "      <td>0</td>\n",
       "      <td>0</td>\n",
       "      <td>0</td>\n",
       "      <td>0</td>\n",
       "      <td>0</td>\n",
       "      <td>0</td>\n",
       "      <td>0</td>\n",
       "      <td>0</td>\n",
       "      <td>0</td>\n",
       "      <td>0</td>\n",
       "    </tr>\n",
       "    <tr>\n",
       "      <th>896</th>\n",
       "      <td>0</td>\n",
       "      <td>0</td>\n",
       "      <td>0</td>\n",
       "      <td>0</td>\n",
       "      <td>0</td>\n",
       "      <td>0</td>\n",
       "      <td>0</td>\n",
       "      <td>0</td>\n",
       "      <td>0</td>\n",
       "      <td>0</td>\n",
       "      <td>...</td>\n",
       "      <td>0</td>\n",
       "      <td>0</td>\n",
       "      <td>1</td>\n",
       "      <td>0</td>\n",
       "      <td>1</td>\n",
       "      <td>0</td>\n",
       "      <td>0</td>\n",
       "      <td>0</td>\n",
       "      <td>0</td>\n",
       "      <td>0</td>\n",
       "    </tr>\n",
       "    <tr>\n",
       "      <th>897</th>\n",
       "      <td>0</td>\n",
       "      <td>0</td>\n",
       "      <td>0</td>\n",
       "      <td>0</td>\n",
       "      <td>0</td>\n",
       "      <td>0</td>\n",
       "      <td>0</td>\n",
       "      <td>0</td>\n",
       "      <td>0</td>\n",
       "      <td>0</td>\n",
       "      <td>...</td>\n",
       "      <td>0</td>\n",
       "      <td>0</td>\n",
       "      <td>0</td>\n",
       "      <td>0</td>\n",
       "      <td>0</td>\n",
       "      <td>0</td>\n",
       "      <td>0</td>\n",
       "      <td>0</td>\n",
       "      <td>0</td>\n",
       "      <td>0</td>\n",
       "    </tr>\n",
       "    <tr>\n",
       "      <th>898</th>\n",
       "      <td>0</td>\n",
       "      <td>0</td>\n",
       "      <td>0</td>\n",
       "      <td>0</td>\n",
       "      <td>0</td>\n",
       "      <td>0</td>\n",
       "      <td>0</td>\n",
       "      <td>0</td>\n",
       "      <td>0</td>\n",
       "      <td>0</td>\n",
       "      <td>...</td>\n",
       "      <td>0</td>\n",
       "      <td>0</td>\n",
       "      <td>0</td>\n",
       "      <td>0</td>\n",
       "      <td>0</td>\n",
       "      <td>0</td>\n",
       "      <td>0</td>\n",
       "      <td>0</td>\n",
       "      <td>0</td>\n",
       "      <td>0</td>\n",
       "    </tr>\n",
       "    <tr>\n",
       "      <th>899</th>\n",
       "      <td>0</td>\n",
       "      <td>0</td>\n",
       "      <td>0</td>\n",
       "      <td>0</td>\n",
       "      <td>0</td>\n",
       "      <td>0</td>\n",
       "      <td>0</td>\n",
       "      <td>0</td>\n",
       "      <td>0</td>\n",
       "      <td>0</td>\n",
       "      <td>...</td>\n",
       "      <td>0</td>\n",
       "      <td>0</td>\n",
       "      <td>0</td>\n",
       "      <td>0</td>\n",
       "      <td>0</td>\n",
       "      <td>0</td>\n",
       "      <td>0</td>\n",
       "      <td>0</td>\n",
       "      <td>0</td>\n",
       "      <td>0</td>\n",
       "    </tr>\n",
       "  </tbody>\n",
       "</table>\n",
       "<p>900 rows × 1932 columns</p>\n",
       "</div>"
      ],
      "text/plain": [
       "     aberdeen  adam  african  airdried  ale  allbutter  allspice  almond  \\\n",
       "0           0     0        0         0    0          0         0       0   \n",
       "1           0     0        0         0    0          0         0       0   \n",
       "2           0     0        0         0    0          0         0       0   \n",
       "3           0     0        0         0    0          0         0       0   \n",
       "4           0     0        0         0    0          0         0       0   \n",
       "..        ...   ...      ...       ...  ...        ...       ...     ...   \n",
       "895         0     0        0         0    0          0         0       0   \n",
       "896         0     0        0         0    0          0         0       0   \n",
       "897         0     0        0         0    0          0         0       0   \n",
       "898         0     0        0         0    0          0         0       0   \n",
       "899         0     0        0         0    0          0         0       0   \n",
       "\n",
       "     almonds  along  ...  wraps  xylitol  yeast  yellow  yoghurt  yogurt  \\\n",
       "0          0      0  ...      0        0      0       0        0       0   \n",
       "1          0      0  ...      0        0      0       0        0       0   \n",
       "2          0      0  ...      0        0      0       0        0       0   \n",
       "3          0      0  ...      0        0      0       0        0       0   \n",
       "4          0      0  ...      0        0      0       0        0       0   \n",
       "..       ...    ...  ...    ...      ...    ...     ...      ...     ...   \n",
       "895        0      0  ...      0        0      0       0        0       0   \n",
       "896        0      0  ...      0        0      1       0        1       0   \n",
       "897        0      0  ...      0        0      0       0        0       0   \n",
       "898        0      0  ...      0        0      0       0        0       0   \n",
       "899        0      0  ...      0        0      0       0        0       0   \n",
       "\n",
       "     yolk  yolks  young  yuzu  \n",
       "0       0      0      0     0  \n",
       "1       0      0      0     0  \n",
       "2       0      1      0     0  \n",
       "3       0      0      0     0  \n",
       "4       0      0      0     0  \n",
       "..    ...    ...    ...   ...  \n",
       "895     0      0      0     0  \n",
       "896     0      0      0     0  \n",
       "897     0      0      0     0  \n",
       "898     0      0      0     0  \n",
       "899     0      0      0     0  \n",
       "\n",
       "[900 rows x 1932 columns]"
      ]
     },
     "execution_count": 168,
     "metadata": {},
     "output_type": "execute_result"
    }
   ],
   "source": [
    "cv = CountVectorizer(stop_words = more_words, ngram_range = (1,1))\n",
    "cv_data  = cv.fit_transform(df2['Ingredients'])\n",
    "df2_tm = pd.DataFrame(cv_data.toarray(), columns = cv.get_feature_names())\n",
    "df2_tm.index = df2.index\n",
    "df2_tm"
   ]
  },
  {
   "cell_type": "code",
   "execution_count": 169,
   "metadata": {
    "ExecuteTime": {
     "end_time": "2021-02-12T11:05:54.431638Z",
     "start_time": "2021-02-12T11:05:53.169387Z"
    }
   },
   "outputs": [],
   "source": [
    "df2_tm.to_csv('matrix_1.csv')"
   ]
  },
  {
   "cell_type": "code",
   "execution_count": 171,
   "metadata": {
    "ExecuteTime": {
     "end_time": "2021-02-12T11:06:24.495627Z",
     "start_time": "2021-02-12T11:06:24.476713Z"
    }
   },
   "outputs": [],
   "source": [
    "df2.to_csv('deep_clean_data.csv')"
   ]
  },
  {
   "cell_type": "code",
   "execution_count": 54,
   "metadata": {
    "ExecuteTime": {
     "end_time": "2021-02-11T20:07:15.868647Z",
     "start_time": "2021-02-11T20:07:15.860579Z"
    },
    "scrolled": true
   },
   "outputs": [
    {
     "name": "stdout",
     "output_type": "stream",
     "text": [
      "['1', 'kg', 'chicken', 'thigh', 'drumstick', '180g', 'sea', 'salt', 'flake', '90g', 'soft', 'dark', 'brown', 'sugar', '2', 'tbsp', 'chilli', 'flake', '2', 'tbsp', 'sweet', 'smoke', 'paprika', '1', 'tbsp', 'ground', 'cumin', '1', 'tbsp', 'sea', 'salt', 'flake', '1', 'tbsp', 'dark', 'brown', 'sugar', '75g', 'butter', '125ml', 'hot', 'chilli', 'sauc', '1', 'tbsp', 'mapl', 'syrup']\n"
     ]
    }
   ],
   "source": [
    "# Stemming: change = chang\n",
    "from nltk.stem import PorterStemmer\n",
    "ps = PorterStemmer()\n",
    "\n",
    "stemmed_read=[]\n",
    "for w in filtered_read:\n",
    "    stemmed_read.append(ps.stem(w))\n",
    "\n",
    "print(stemmed_read)"
   ]
  },
  {
   "cell_type": "code",
   "execution_count": 58,
   "metadata": {
    "ExecuteTime": {
     "end_time": "2021-02-11T20:09:30.557730Z",
     "start_time": "2021-02-11T20:09:29.063416Z"
    },
    "scrolled": true
   },
   "outputs": [
    {
     "name": "stdout",
     "output_type": "stream",
     "text": [
      "['1', 'kg', 'chicken', 'thigh', 'drumstick', '180g', 'sea', 'salt', 'flake', '90g', 'soft', 'dark', 'brown', 'sugar', '2', 'tbsp', 'chilli', 'flake', '2', 'tbsp', 'sweet', 'smoked', 'paprika', '1', 'tbsp', 'ground', 'cumin', '1', 'tbsp', 'sea', 'salt', 'flake', '1', 'tbsp', 'dark', 'brown', 'sugar', '75g', 'butter', '125ml', 'hot', 'chilli', 'sauce', '1', 'tbsp', 'maple', 'syrup']\n"
     ]
    }
   ],
   "source": [
    "# lemmatezization: changer = change\n",
    "from nltk.stem import WordNetLemmatizer \n",
    "  \n",
    "lemmatizer = WordNetLemmatizer() \n",
    "\n",
    "lemmatized_read=[]\n",
    "for w in filtered_read:\n",
    "    lemmatized_read.append(lemmatizer.lemmatize(w))\n",
    "\n",
    "print(lemmatized_read)"
   ]
  }
 ],
 "metadata": {
  "kernelspec": {
   "display_name": "learn-env",
   "language": "python",
   "name": "learn-env"
  },
  "language_info": {
   "codemirror_mode": {
    "name": "ipython",
    "version": 3
   },
   "file_extension": ".py",
   "mimetype": "text/x-python",
   "name": "python",
   "nbconvert_exporter": "python",
   "pygments_lexer": "ipython3",
   "version": "3.6.9"
  }
 },
 "nbformat": 4,
 "nbformat_minor": 4
}
